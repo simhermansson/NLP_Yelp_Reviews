{
  "cells": [
    {
      "cell_type": "markdown",
      "metadata": {
        "id": "view-in-github",
        "colab_type": "text"
      },
      "source": [
        "<a href=\"https://colab.research.google.com/github/simhermansson/NLP_Yelp_Reviews/blob/main/NLP_Yelp_Reviews.ipynb\" target=\"_parent\"><img src=\"https://colab.research.google.com/assets/colab-badge.svg\" alt=\"Open In Colab\"/></a>"
      ]
    },
    {
      "cell_type": "markdown",
      "metadata": {
        "id": "8W3WjX0GsRM3"
      },
      "source": [
        "# Predict Yelp Review Stars"
      ]
    },
    {
      "cell_type": "markdown",
      "metadata": {
        "id": "Xc5_d_JNatqK"
      },
      "source": [
        "### Read the two datasets to dataframes"
      ]
    },
    {
      "cell_type": "markdown",
      "metadata": {
        "id": "wX6jl-f8f2fg"
      },
      "source": [
        "We have one dataset for businesses, and one for reviews.\n",
        "The businesses dataset is 113 MB, while the review dataset is almost 5 GB!\n",
        "\n",
        "We must therefore be careful when loading that dataset to a dataframe to not run out of RAM."
      ]
    },
    {
      "cell_type": "code",
      "execution_count": null,
      "metadata": {
        "id": "ABPBHFDxjI9m"
      },
      "outputs": [],
      "source": [
        "# Specify whether training final model or only using some of the data\n",
        "FINAL_MODEL = True"
      ]
    },
    {
      "cell_type": "code",
      "execution_count": null,
      "metadata": {
        "id": "suVpvTDVlhDO"
      },
      "outputs": [],
      "source": [
        "!pip install pandas --quiet\n",
        "import pandas as pd\n",
        "\n",
        "from google.colab import drive\n",
        "\n",
        "\n",
        "# Mount Google Drive\n",
        "#drive.mount(\"/content/drive\")\n",
        "\n",
        "# Read business data to dataframe\n",
        "business_df = pd.read_json(\"/content/drive/MyDrive/Colab Data/yelp_academic_dataset_business.json\",\n",
        "                           lines=True)\n",
        "# Keep only strictly necessary columns\n",
        "business_df = business_df[[\"business_id\", \"stars\", \"review_count\"]]\n",
        "\n",
        "# Read review data to a JsonReader object, due to memory constraints\n",
        "review_df = None\n",
        "with pd.read_json(\"/content/drive/MyDrive/Colab Data/yelp_academic_dataset_review.json\",\n",
        "                  lines=True,\n",
        "                  chunksize=1000000) as reader:\n",
        "    # Keep only necessary columns and combine into a full dataframe\n",
        "    for chunk in reader:\n",
        "        chunk = chunk[[\"business_id\", \"stars\", \"text\"]]\n",
        "        review_df = chunk if review_df is None else pd.concat([review_df, chunk],\n",
        "                                                              ignore_index=True)\n",
        "    del chunk\n",
        "\n",
        "# Use a smaller review dataset if not training the final model\n",
        "if not FINAL_MODEL:\n",
        "    review_df = review_df.sample(frac=0.01, random_state=42).reset_index(drop=True)\n",
        "else:\n",
        "    review_df = review_df.sample(frac=0.2, random_state=42).reset_index(drop=True)\n",
        "\n",
        "# Create train, validation and test sets for the review data\n",
        "# Setting validation set to be very small in relation to the other sets, so it can be run through\n",
        "# relatively quickly during training of DistilBert\n",
        "train_review_df = review_df.sample(frac=0.8, random_state=42)\n",
        "valid_review_df = review_df.drop(train_review_df.index).reset_index(drop=True)\n",
        "train_review_df = train_review_df.reset_index(drop=True)\n",
        "\n",
        "test_review_df = valid_review_df.sample(frac=0.9965667, random_state=42)\n",
        "valid_review_df = valid_review_df.drop(test_review_df.index).reset_index(drop=True)\n",
        "test_review_df = test_review_df.reset_index(drop=True)\n",
        "\n",
        "del review_df"
      ]
    },
    {
      "cell_type": "markdown",
      "metadata": {
        "id": "bI09Q1M1h5Za"
      },
      "source": [
        "#### Save the development train and test dataframes to avoid having to read and modify the entire dataset every time."
      ]
    },
    {
      "cell_type": "code",
      "execution_count": null,
      "metadata": {
        "id": "c4dguRSMiEkF"
      },
      "outputs": [],
      "source": [
        "if not FINAL_MODEL:\n",
        "    train_review_df.to_csv(\"/content/drive/MyDrive/Colab Data/dev_train_review_df.csv\", index=False)\n",
        "    valid_review_df.to_csv(\"/content/drive/MyDrive/Colab Data/dev_valid_review_df.csv\", index=False)\n",
        "    test_review_df.to_csv(\"/content/drive/MyDrive/Colab Data/dev_test_review_df.csv\", index=False)\n",
        "else:\n",
        "    train_review_df.to_csv(\"/content/drive/MyDrive/Colab Data/full_train_review_df.csv\", index=False)\n",
        "    valid_review_df.to_csv(\"/content/drive/MyDrive/Colab Data/full_valid_review_df.csv\", index=False)\n",
        "    test_review_df.to_csv(\"/content/drive/MyDrive/Colab Data/full_test_review_df.csv\", index=False)"
      ]
    },
    {
      "cell_type": "markdown",
      "metadata": {
        "id": "0U1PhEXNixMp"
      },
      "source": [
        "#### Read already saved training and test dataframes"
      ]
    },
    {
      "cell_type": "code",
      "execution_count": null,
      "metadata": {
        "id": "mIdstTVKi2a2"
      },
      "outputs": [],
      "source": [
        "!pip install datasets --quiet\n",
        "\n",
        "from datasets import load_dataset, Features, Value, ClassLabel, concatenate_datasets, DownloadMode\n",
        "\n",
        "import pandas as pd\n",
        "\n",
        "\n",
        "features = Features({\n",
        "    \"business_id\": Value(dtype=\"string\"),\n",
        "    \"text\": Value(dtype=\"string\"),\n",
        "    \"stars\": ClassLabel(num_classes=5, names=[\"1\", \"2\", \"3\", \"4\", \"5\"])\n",
        "})\n",
        "\n",
        "if not FINAL_MODEL:\n",
        "    train_review = load_dataset(\"csv\", data_files=\"/content/drive/MyDrive/Colab Data/dev_train_review_df.csv\",\n",
        "                                features=features)[\"train\"]\n",
        "    valid_review = load_dataset(\"csv\", data_files=\"/content/drive/MyDrive/Colab Data/dev_valid_review_df.csv\",\n",
        "                                features=features)[\"train\"]\n",
        "    test_review = load_dataset(\"csv\", data_files=\"/content/drive/MyDrive/Colab Data/dev_test_review_df.csv\",\n",
        "                               features=features)[\"train\"]\n",
        "else:\n",
        "    train_review = load_dataset(\"csv\", data_files=\"/content/drive/MyDrive/Colab Data/full_train_review_df.csv\",\n",
        "                                features=features, download_mode=DownloadMode.FORCE_REDOWNLOAD)[\"train\"]\n",
        "    valid_review = load_dataset(\"csv\", data_files=\"/content/drive/MyDrive/Colab Data/full_valid_review_df.csv\",\n",
        "                                features=features, download_mode=DownloadMode.FORCE_REDOWNLOAD)[\"train\"]\n",
        "    test_review = load_dataset(\"csv\", data_files=\"/content/drive/MyDrive/Colab Data/full_test_review_df.csv\",\n",
        "                               features=features, download_mode=DownloadMode.FORCE_REDOWNLOAD)[\"train\"]"
      ]
    },
    {
      "cell_type": "markdown",
      "metadata": {
        "id": "UaLj6sbVd6uU"
      },
      "source": [
        "#### Make datasets ready to be used, remove unused columns and rename to HuggingFace standards"
      ]
    },
    {
      "cell_type": "code",
      "execution_count": null,
      "metadata": {
        "colab": {
          "base_uri": "https://localhost:8080/",
          "height": 34
        },
        "id": "s585EYZd4T3o",
        "outputId": "6e6546f2-334b-4704-fc7b-83dc36810596"
      },
      "outputs": [
        {
          "output_type": "stream",
          "name": "stdout",
          "text": [
            "{'text': Value(dtype='string', id=None), 'labels': ClassLabel(names=['1', '2', '3', '4', '5'], id=None)}\n"
          ]
        }
      ],
      "source": [
        "train_review = train_review.remove_columns(\"business_id\")\n",
        "valid_review = valid_review.remove_columns(\"business_id\")\n",
        "test_review = test_review.remove_columns(\"business_id\")\n",
        "\n",
        "train_review = train_review.rename_column(\"stars\", \"labels\")\n",
        "valid_review = valid_review.rename_column(\"stars\", \"labels\")\n",
        "test_review = test_review.rename_column(\"stars\", \"labels\")\n",
        "\n",
        "print(train_review.features)"
      ]
    },
    {
      "cell_type": "markdown",
      "metadata": {
        "id": "JFBDxJ0lyp6b"
      },
      "source": [
        "# Fine-tune a DistilBert Model"
      ]
    },
    {
      "cell_type": "code",
      "execution_count": null,
      "metadata": {
        "id": "9rvaxbVC5hW3"
      },
      "outputs": [],
      "source": [
        "!pip install transformers wandb==0.13.4 torch --quiet\n",
        "\n",
        "from transformers import (AutoTokenizer, DataCollatorWithPadding,\n",
        "                          AutoModelForSequenceClassification, TrainingArguments, Trainer)\n",
        "from torch.utils.data import Dataset, DataLoader\n",
        "from datasets import load_dataset, load_metric\n",
        "import wandb\n",
        "\n",
        "import numpy as np\n",
        "\n",
        "\n",
        "# Use the GPU\n",
        "device = \"cuda\"\n",
        "\n",
        "# Load pre-trained DistilBert model from HuggingFace\n",
        "model = AutoModelForSequenceClassification.from_pretrained(\"distilbert-base-uncased\", num_labels=5)\n",
        "\n",
        "# Tokenize the training and validation data\n",
        "tokenizer = AutoTokenizer.from_pretrained(\"distilbert-base-uncased\")\n",
        "\n",
        "train_review = train_review.map(\n",
        "    lambda row: tokenizer(row[\"text\"], truncation=True)\n",
        ", batched=True)\n",
        "valid_review = valid_review.map(\n",
        "    lambda row: tokenizer(row[\"text\"], truncation=True)\n",
        ", batched=True)\n",
        "test_review = test_review.map(\n",
        "    lambda row: tokenizer(row[\"text\"], truncation=True)\n",
        ", batched=True)\n",
        "\n",
        "# Create a collator that converts input into tensors and builds batches\n",
        "collator = DataCollatorWithPadding(tokenizer=tokenizer)\n",
        "\n",
        "# Create a function for the evaluation metrics that are to be used\n",
        "def metrics(eval):\n",
        "    logits, labels = eval\n",
        "    predictions = np.argmax(logits, axis=-1)\n",
        "    acc = load_metric(\"accuracy\").compute(predictions=predictions, references=labels)[\"accuracy\"]\n",
        "    f1 = load_metric(\"f1\").compute(predictions=predictions, references=labels,\n",
        "                                   average=\"weighted\")[\"f1\"]\n",
        "    return {\"Accuracy\": acc, \"F1-Score\": f1}\n",
        "\n",
        "# Set up training arguments\n",
        "args = TrainingArguments(\n",
        "    output_dir=\"/content/drive/MyDrive/Colab Data/models\",\n",
        "    overwrite_output_dir=True,\n",
        "    per_device_train_batch_size=32,\n",
        "    per_device_eval_batch_size=32,\n",
        "    num_train_epochs=0.5,\n",
        "    save_strategy=\"steps\",\n",
        "    save_steps=200,\n",
        "    logging_steps=200,\n",
        "    eval_steps=200,\n",
        "    evaluation_strategy=\"steps\"\n",
        ")\n",
        "\n",
        "# Set up HuggingFace trainer\n",
        "trainer = Trainer(\n",
        "    model=model,\n",
        "    args=args,\n",
        "    train_dataset=train_review,\n",
        "    eval_dataset=valid_review,\n",
        "    tokenizer=tokenizer,\n",
        "    data_collator=collator,\n",
        "    compute_metrics=metrics\n",
        ")"
      ]
    },
    {
      "cell_type": "code",
      "source": [
        "# Initialize weight and biases for tracking metrics\n",
        "wandb.init()\n",
        "\n",
        "# Train the model\n",
        "trainer.train()\n",
        "\n",
        "# Evaluate the model\n",
        "trainer.evaluate()\n",
        "\n",
        "# End wandb logging\n",
        "wandb.finish()"
      ],
      "metadata": {
        "id": "XvFDOvSGs-MO"
      },
      "execution_count": null,
      "outputs": []
    },
    {
      "cell_type": "markdown",
      "metadata": {
        "id": "jkvLq64fcZBa"
      },
      "source": [
        "#### Calculate performance on the test set"
      ]
    },
    {
      "cell_type": "code",
      "execution_count": null,
      "metadata": {
        "id": "OdNjGavUcdYd",
        "colab": {
          "base_uri": "https://localhost:8080/",
          "height": 1000,
          "referenced_widgets": [
            "4d8cc7d179e74044bad11b99554c0b2e",
            "4e0ebc30c4c04e5a805c2a760c027f36",
            "dd6ad6203a0e484d81dca4190c795cd2",
            "c29d791088164587a8154d8ca903a83f",
            "272f9206d743401ca26385004df79da0",
            "885b5d42d9b24a9b8403cdd686879a34",
            "211c130021e84d8d94c2be3b736c1409",
            "53ba0de86b9b4e51ad32710eaff7a4db",
            "c8d7885e57084165a6070c8ca0f44ff8",
            "b897c1ff992d4d3fb1fc615b88668462",
            "ba65441ac1104114b71a0f7c5ee39f44",
            "56252116bebd41bfa09979176aabc220",
            "9c7a2f4dc0ff4e5dbf762e9c19ca77c3",
            "3d1e087a49764b8bb5e32e3303dc9818",
            "8e7d5b820aef4dc98451cd30a8a60f99",
            "be186113256b4d279ab6e04a0ae4526f",
            "48ccf307e5e54d139d67c990a0b1f98a",
            "5281b5d5a6d14d1f8b6a0e7c0c1a3ed2",
            "c777e4426b0844c597fda90f926209b2",
            "78df544c68aa4a93b6f39611271dd199",
            "bb67aaf167d84e04a8b7394b2385bac9",
            "074da9221e6a452ea2e94275cbb4df67"
          ]
        },
        "outputId": "32615768-f680-441d-9a96-557a0d7a7fba"
      },
      "outputs": [
        {
          "output_type": "stream",
          "name": "stderr",
          "text": [
            "loading configuration file /content/drive/MyDrive/Colab Data/models/checkpoint-15600/config.json\n",
            "Model config DistilBertConfig {\n",
            "  \"_name_or_path\": \"/content/drive/MyDrive/Colab Data/models/checkpoint-15600\",\n",
            "  \"activation\": \"gelu\",\n",
            "  \"architectures\": [\n",
            "    \"DistilBertForSequenceClassification\"\n",
            "  ],\n",
            "  \"attention_dropout\": 0.1,\n",
            "  \"dim\": 768,\n",
            "  \"dropout\": 0.1,\n",
            "  \"hidden_dim\": 3072,\n",
            "  \"id2label\": {\n",
            "    \"0\": \"LABEL_0\",\n",
            "    \"1\": \"LABEL_1\",\n",
            "    \"2\": \"LABEL_2\",\n",
            "    \"3\": \"LABEL_3\",\n",
            "    \"4\": \"LABEL_4\"\n",
            "  },\n",
            "  \"initializer_range\": 0.02,\n",
            "  \"label2id\": {\n",
            "    \"LABEL_0\": 0,\n",
            "    \"LABEL_1\": 1,\n",
            "    \"LABEL_2\": 2,\n",
            "    \"LABEL_3\": 3,\n",
            "    \"LABEL_4\": 4\n",
            "  },\n",
            "  \"max_position_embeddings\": 512,\n",
            "  \"model_type\": \"distilbert\",\n",
            "  \"n_heads\": 12,\n",
            "  \"n_layers\": 6,\n",
            "  \"pad_token_id\": 0,\n",
            "  \"problem_type\": \"single_label_classification\",\n",
            "  \"qa_dropout\": 0.1,\n",
            "  \"seq_classif_dropout\": 0.2,\n",
            "  \"sinusoidal_pos_embds\": false,\n",
            "  \"tie_weights_\": true,\n",
            "  \"torch_dtype\": \"float32\",\n",
            "  \"transformers_version\": \"4.25.1\",\n",
            "  \"vocab_size\": 30522\n",
            "}\n",
            "\n",
            "loading weights file /content/drive/MyDrive/Colab Data/models/checkpoint-15600/pytorch_model.bin\n",
            "All model checkpoint weights were used when initializing DistilBertForSequenceClassification.\n",
            "\n",
            "All the weights of DistilBertForSequenceClassification were initialized from the model checkpoint at /content/drive/MyDrive/Colab Data/models/checkpoint-15600.\n",
            "If your task is similar to the task the model of the checkpoint was trained on, you can already use DistilBertForSequenceClassification for predictions without further training.\n",
            "The following columns in the test set don't have a corresponding argument in `DistilBertForSequenceClassification.forward` and have been ignored: text. If text are not expected by `DistilBertForSequenceClassification.forward`,  you can safely ignore this message.\n",
            "***** Running Prediction *****\n",
            "  Num examples = 278651\n",
            "  Batch size = 32\n",
            "You're using a DistilBertTokenizerFast tokenizer. Please note that with a fast tokenizer, using the `__call__` method is faster than using a method to encode the text followed by a call to the `pad` method to get a padded encoding.\n"
          ]
        },
        {
          "output_type": "display_data",
          "data": {
            "text/plain": [
              "<IPython.core.display.HTML object>"
            ],
            "text/html": []
          },
          "metadata": {}
        },
        {
          "output_type": "stream",
          "name": "stderr",
          "text": [
            "<ipython-input-4-c343649e235a>:38: FutureWarning: load_metric is deprecated and will be removed in the next major version of datasets. Use 'evaluate.load' instead, from the new library 🤗 Evaluate: https://huggingface.co/docs/evaluate\n",
            "  acc = load_metric(\"accuracy\").compute(predictions=predictions, references=labels)[\"accuracy\"]\n"
          ]
        },
        {
          "output_type": "display_data",
          "data": {
            "text/plain": [
              "Downloading builder script:   0%|          | 0.00/1.65k [00:00<?, ?B/s]"
            ],
            "application/vnd.jupyter.widget-view+json": {
              "version_major": 2,
              "version_minor": 0,
              "model_id": "4d8cc7d179e74044bad11b99554c0b2e"
            }
          },
          "metadata": {}
        },
        {
          "output_type": "display_data",
          "data": {
            "text/plain": [
              "Downloading builder script:   0%|          | 0.00/2.32k [00:00<?, ?B/s]"
            ],
            "application/vnd.jupyter.widget-view+json": {
              "version_major": 2,
              "version_minor": 0,
              "model_id": "56252116bebd41bfa09979176aabc220"
            }
          },
          "metadata": {}
        },
        {
          "output_type": "execute_result",
          "data": {
            "text/plain": [
              "PredictionOutput(predictions=array([[ 5.742158  , -0.15436456, -2.6700296 , -3.9349568 , -2.6774628 ],\n",
              "       [ 1.7267905 ,  1.5333879 ,  0.13872322, -1.9988109 , -3.0943203 ],\n",
              "       [ 0.22677197, -2.002072  , -2.0459743 , -1.3447785 ,  2.1366904 ],\n",
              "       ...,\n",
              "       [-5.821963  , -5.8427715 , -2.2196681 ,  2.210648  ,  4.28728   ],\n",
              "       [-4.2614055 , -2.849276  ,  0.50671476,  1.6384153 ,  0.9448307 ],\n",
              "       [-4.9014053 , -4.23638   , -1.0022593 ,  1.9643029 ,  2.653538  ]],\n",
              "      dtype=float32), label_ids=array([0, 0, 4, ..., 4, 2, 4]), metrics={'test_loss': 0.5618391036987305, 'test_Accuracy': 0.7616875589895604, 'test_F1-Score': 0.7530561208766763, 'test_runtime': 4290.3215, 'test_samples_per_second': 64.949, 'test_steps_per_second': 2.03})"
            ]
          },
          "metadata": {},
          "execution_count": 5
        }
      ],
      "source": [
        "# Load saved fine-tuned model\n",
        "model = AutoModelForSequenceClassification.from_pretrained(\"/content/drive/MyDrive/Colab Data/models/checkpoint-15600\", num_labels=5)\n",
        "\n",
        "# Load the saved model to the trainer\n",
        "trainer = Trainer(\n",
        "    model=model,\n",
        "    args=args,\n",
        "    train_dataset=train_review,\n",
        "    eval_dataset=valid_review,\n",
        "    tokenizer=tokenizer,\n",
        "    data_collator=collator,\n",
        "    compute_metrics=metrics\n",
        ")\n",
        "\n",
        "# Predict on the test set\n",
        "trainer.predict(test_review)"
      ]
    },
    {
      "cell_type": "markdown",
      "metadata": {
        "id": "-pY6bHyvwBR4"
      },
      "source": [
        "# Predicting Business Ratings by Embeddings and kNN"
      ]
    },
    {
      "cell_type": "code",
      "execution_count": null,
      "metadata": {
        "id": "bd5wFG86wAoN"
      },
      "outputs": [],
      "source": [
        "text = \"This was the best restaurant I've ever been to!\"\n",
        "encoding = tokenizer(text, truncation=True)\n",
        "outputs = model(encoding, output_hidden_states=True)\n",
        "hidden_states = outputs.hidden_states"
      ]
    },
    {
      "cell_type": "markdown",
      "metadata": {
        "id": "Ia2LzjFgfWtE"
      },
      "source": [
        "# Baseline Methods"
      ]
    },
    {
      "cell_type": "markdown",
      "source": [
        "#### Set up the datasets"
      ],
      "metadata": {
        "id": "8msswxgGD2bC"
      }
    },
    {
      "cell_type": "code",
      "execution_count": null,
      "metadata": {
        "id": "rBFY0Qkr97wZ",
        "colab": {
          "base_uri": "https://localhost:8080/"
        },
        "outputId": "7dcfe1c1-bf25-400a-b932-06ba98bc5b30"
      },
      "outputs": [
        {
          "output_type": "stream",
          "name": "stdout",
          "text": [
            "/usr/local/lib/python3.8/dist-packages/torch/cuda/__init__.py:497: UserWarning: Can't initialize NVML\n",
            "  warnings.warn(\"Can't initialize NVML\")\n",
            "2023-01-15 07:53:43.116458: E tensorflow/stream_executor/cuda/cuda_driver.cc:271] failed call to cuInit: CUDA_ERROR_NO_DEVICE: no CUDA-capable device is detected\n",
            "Looking in indexes: https://pypi.org/simple, https://us-python.pkg.dev/colab-wheels/public/simple/\n",
            "Collecting en-core-web-sm==3.4.1\n",
            "  Downloading https://github.com/explosion/spacy-models/releases/download/en_core_web_sm-3.4.1/en_core_web_sm-3.4.1-py3-none-any.whl (12.8 MB)\n",
            "\u001b[2K     \u001b[90m━━━━━━━━━━━━━━━━━━━━━━━━━━━━━━━━━━━━━━━━\u001b[0m \u001b[32m12.8/12.8 MB\u001b[0m \u001b[31m31.6 MB/s\u001b[0m eta \u001b[36m0:00:00\u001b[0m\n",
            "\u001b[?25hRequirement already satisfied: spacy<3.5.0,>=3.4.0 in /usr/local/lib/python3.8/dist-packages (from en-core-web-sm==3.4.1) (3.4.4)\n",
            "Requirement already satisfied: pydantic!=1.8,!=1.8.1,<1.11.0,>=1.7.4 in /usr/local/lib/python3.8/dist-packages (from spacy<3.5.0,>=3.4.0->en-core-web-sm==3.4.1) (1.10.4)\n",
            "Requirement already satisfied: tqdm<5.0.0,>=4.38.0 in /usr/local/lib/python3.8/dist-packages (from spacy<3.5.0,>=3.4.0->en-core-web-sm==3.4.1) (4.64.1)\n",
            "Requirement already satisfied: spacy-legacy<3.1.0,>=3.0.10 in /usr/local/lib/python3.8/dist-packages (from spacy<3.5.0,>=3.4.0->en-core-web-sm==3.4.1) (3.0.11)\n",
            "Requirement already satisfied: spacy-loggers<2.0.0,>=1.0.0 in /usr/local/lib/python3.8/dist-packages (from spacy<3.5.0,>=3.4.0->en-core-web-sm==3.4.1) (1.0.4)\n",
            "Requirement already satisfied: smart-open<7.0.0,>=5.2.1 in /usr/local/lib/python3.8/dist-packages (from spacy<3.5.0,>=3.4.0->en-core-web-sm==3.4.1) (6.3.0)\n",
            "Requirement already satisfied: preshed<3.1.0,>=3.0.2 in /usr/local/lib/python3.8/dist-packages (from spacy<3.5.0,>=3.4.0->en-core-web-sm==3.4.1) (3.0.8)\n",
            "Requirement already satisfied: cymem<2.1.0,>=2.0.2 in /usr/local/lib/python3.8/dist-packages (from spacy<3.5.0,>=3.4.0->en-core-web-sm==3.4.1) (2.0.7)\n",
            "Requirement already satisfied: requests<3.0.0,>=2.13.0 in /usr/local/lib/python3.8/dist-packages (from spacy<3.5.0,>=3.4.0->en-core-web-sm==3.4.1) (2.25.1)\n",
            "Requirement already satisfied: typer<0.8.0,>=0.3.0 in /usr/local/lib/python3.8/dist-packages (from spacy<3.5.0,>=3.4.0->en-core-web-sm==3.4.1) (0.7.0)\n",
            "Requirement already satisfied: langcodes<4.0.0,>=3.2.0 in /usr/local/lib/python3.8/dist-packages (from spacy<3.5.0,>=3.4.0->en-core-web-sm==3.4.1) (3.3.0)\n",
            "Requirement already satisfied: srsly<3.0.0,>=2.4.3 in /usr/local/lib/python3.8/dist-packages (from spacy<3.5.0,>=3.4.0->en-core-web-sm==3.4.1) (2.4.5)\n",
            "Requirement already satisfied: numpy>=1.15.0 in /usr/local/lib/python3.8/dist-packages (from spacy<3.5.0,>=3.4.0->en-core-web-sm==3.4.1) (1.21.6)\n",
            "Requirement already satisfied: pathy>=0.3.5 in /usr/local/lib/python3.8/dist-packages (from spacy<3.5.0,>=3.4.0->en-core-web-sm==3.4.1) (0.10.1)\n",
            "Requirement already satisfied: catalogue<2.1.0,>=2.0.6 in /usr/local/lib/python3.8/dist-packages (from spacy<3.5.0,>=3.4.0->en-core-web-sm==3.4.1) (2.0.8)\n",
            "Requirement already satisfied: wasabi<1.1.0,>=0.9.1 in /usr/local/lib/python3.8/dist-packages (from spacy<3.5.0,>=3.4.0->en-core-web-sm==3.4.1) (0.10.1)\n",
            "Requirement already satisfied: packaging>=20.0 in /usr/local/lib/python3.8/dist-packages (from spacy<3.5.0,>=3.4.0->en-core-web-sm==3.4.1) (21.3)\n",
            "Requirement already satisfied: thinc<8.2.0,>=8.1.0 in /usr/local/lib/python3.8/dist-packages (from spacy<3.5.0,>=3.4.0->en-core-web-sm==3.4.1) (8.1.6)\n",
            "Requirement already satisfied: jinja2 in /usr/local/lib/python3.8/dist-packages (from spacy<3.5.0,>=3.4.0->en-core-web-sm==3.4.1) (2.11.3)\n",
            "Requirement already satisfied: setuptools in /usr/local/lib/python3.8/dist-packages (from spacy<3.5.0,>=3.4.0->en-core-web-sm==3.4.1) (57.4.0)\n",
            "Requirement already satisfied: murmurhash<1.1.0,>=0.28.0 in /usr/local/lib/python3.8/dist-packages (from spacy<3.5.0,>=3.4.0->en-core-web-sm==3.4.1) (1.0.9)\n",
            "Requirement already satisfied: pyparsing!=3.0.5,>=2.0.2 in /usr/local/lib/python3.8/dist-packages (from packaging>=20.0->spacy<3.5.0,>=3.4.0->en-core-web-sm==3.4.1) (3.0.9)\n",
            "Requirement already satisfied: typing-extensions>=4.2.0 in /usr/local/lib/python3.8/dist-packages (from pydantic!=1.8,!=1.8.1,<1.11.0,>=1.7.4->spacy<3.5.0,>=3.4.0->en-core-web-sm==3.4.1) (4.4.0)\n",
            "Requirement already satisfied: idna<3,>=2.5 in /usr/local/lib/python3.8/dist-packages (from requests<3.0.0,>=2.13.0->spacy<3.5.0,>=3.4.0->en-core-web-sm==3.4.1) (2.10)\n",
            "Requirement already satisfied: urllib3<1.27,>=1.21.1 in /usr/local/lib/python3.8/dist-packages (from requests<3.0.0,>=2.13.0->spacy<3.5.0,>=3.4.0->en-core-web-sm==3.4.1) (1.26.14)\n",
            "Requirement already satisfied: chardet<5,>=3.0.2 in /usr/local/lib/python3.8/dist-packages (from requests<3.0.0,>=2.13.0->spacy<3.5.0,>=3.4.0->en-core-web-sm==3.4.1) (4.0.0)\n",
            "Requirement already satisfied: certifi>=2017.4.17 in /usr/local/lib/python3.8/dist-packages (from requests<3.0.0,>=2.13.0->spacy<3.5.0,>=3.4.0->en-core-web-sm==3.4.1) (2022.12.7)\n",
            "Requirement already satisfied: confection<1.0.0,>=0.0.1 in /usr/local/lib/python3.8/dist-packages (from thinc<8.2.0,>=8.1.0->spacy<3.5.0,>=3.4.0->en-core-web-sm==3.4.1) (0.0.3)\n",
            "Requirement already satisfied: blis<0.8.0,>=0.7.8 in /usr/local/lib/python3.8/dist-packages (from thinc<8.2.0,>=8.1.0->spacy<3.5.0,>=3.4.0->en-core-web-sm==3.4.1) (0.7.9)\n",
            "Requirement already satisfied: click<9.0.0,>=7.1.1 in /usr/local/lib/python3.8/dist-packages (from typer<0.8.0,>=0.3.0->spacy<3.5.0,>=3.4.0->en-core-web-sm==3.4.1) (7.1.2)\n",
            "Requirement already satisfied: MarkupSafe>=0.23 in /usr/local/lib/python3.8/dist-packages (from jinja2->spacy<3.5.0,>=3.4.0->en-core-web-sm==3.4.1) (2.0.1)\n",
            "\u001b[38;5;2m✔ Download and installation successful\u001b[0m\n",
            "You can now load the package via spacy.load('en_core_web_sm')\n"
          ]
        },
        {
          "output_type": "stream",
          "name": "stderr",
          "text": [
            "/usr/local/lib/python3.8/dist-packages/torch/cuda/__init__.py:497: UserWarning: Can't initialize NVML\n",
            "  warnings.warn(\"Can't initialize NVML\")\n"
          ]
        }
      ],
      "source": [
        "!pip install scikit-learn spacy --quiet\n",
        "!python3 -m spacy download en_core_web_sm\n",
        "\n",
        "import spacy\n",
        "from sklearn.naive_bayes import MultinomialNB\n",
        "from sklearn.metrics import classification_report\n",
        "from sklearn.pipeline import Pipeline\n",
        "from sklearn.feature_extraction.text import CountVectorizer\n",
        "from sklearn.feature_extraction.text import TfidfVectorizer\n",
        "from sklearn.svm import LinearSVC\n",
        "\n",
        "\n",
        "# Combine train and validation sets, as we only do hyperparameter tuning with cross-validation here\n",
        "train_review = concatenate_datasets([train_review, valid_review])\n",
        "\n",
        "# Convert to pandas\n",
        "train_review = train_review.to_pandas()\n",
        "test_review = test_review.to_pandas()\n",
        "\n",
        "# There were some NaNs, remove these\n",
        "train_review.dropna(inplace=True)\n",
        "train_review.head()\n",
        "train_review[\"labels\"] = train_review[\"labels\"].astype(\"int64\")\n",
        "train_review[\"labels\"]\n",
        "\n",
        "del valid_review"
      ]
    },
    {
      "cell_type": "markdown",
      "source": [
        "#### Create the preprocessing function for lemmatizing, removal of stop words, and removal of non alphabetic characters"
      ],
      "metadata": {
        "id": "9iaBK4qgQhCb"
      }
    },
    {
      "cell_type": "code",
      "source": [
        "# Load spacy\n",
        "nlp = spacy.load(\"en_core_web_sm\", disable=[\"parser\", \"ner\"])\n",
        "\n",
        "def preprocess(text):\n",
        "    \"\"\" Lemmatize, remove stop words and keep only alphabetic characters. \"\"\"\n",
        "    doc = nlp(text)\n",
        "    return [t.lemma_ for t in doc if not t.is_stop and t.is_alpha]"
      ],
      "metadata": {
        "id": "j4JOynJSQfS5"
      },
      "execution_count": null,
      "outputs": []
    },
    {
      "cell_type": "markdown",
      "metadata": {
        "id": "SbjagpFEHkCR"
      },
      "source": [
        "#### Naive Bayes Classifier With CountVectorizer"
      ]
    },
    {
      "cell_type": "code",
      "execution_count": null,
      "metadata": {
        "id": "sqp5TBsC7uka"
      },
      "outputs": [],
      "source": [
        "# Create a pipeline with a CountVectorizer and a Naive Bayes Classifier\n",
        "pipe = Pipeline([(\"vectorizer\", CountVectorizer(tokenizer=preprocess)),\n",
        "                 (\"NB\", MultinomialNB())])\n",
        "\n",
        "pipe.fit(train_review[\"text\"], train_review[\"labels\"])"
      ]
    },
    {
      "cell_type": "code",
      "execution_count": null,
      "metadata": {
        "colab": {
          "base_uri": "https://localhost:8080/"
        },
        "id": "J9NdyX-eCprn",
        "outputId": "af4b8877-0e11-46c0-ae7a-e81156124df7"
      },
      "outputs": [
        {
          "output_type": "stream",
          "name": "stdout",
          "text": [
            "              precision    recall  f1-score   support\n",
            "\n",
            "           0       0.62      0.71      0.66     42791\n",
            "           1       0.32      0.29      0.30     21865\n",
            "           2       0.38      0.33      0.35     27583\n",
            "           3       0.43      0.56      0.49     58116\n",
            "           4       0.80      0.69      0.74    129256\n",
            "\n",
            "    accuracy                           0.60    279611\n",
            "   macro avg       0.51      0.52      0.51    279611\n",
            "weighted avg       0.62      0.60      0.60    279611\n",
            "\n"
          ]
        }
      ],
      "source": [
        "# Do predictions\n",
        "ys = pipe.predict(test_review[\"text\"])\n",
        "print(classification_report(test_review[\"labels\"], ys))"
      ]
    },
    {
      "cell_type": "markdown",
      "metadata": {
        "id": "REl0aBAUhAuR"
      },
      "source": [
        "#### Naive Bayes Classifier With CountVectorizer Grid Search"
      ]
    },
    {
      "cell_type": "markdown",
      "metadata": {
        "id": "ADlAUTXFhrCq"
      },
      "source": [
        "Note: Should not be run with the complete dataset"
      ]
    },
    {
      "cell_type": "code",
      "execution_count": null,
      "metadata": {
        "id": "zW8ZOc68hACa"
      },
      "outputs": [],
      "source": [
        "from sklearn.model_selection import GridSearchCV\n",
        "\n",
        "\n",
        "# Parameters for grid search\n",
        "parameters = {\n",
        "    \"vectorizer__binary\": [True, False],\n",
        "    \"vectorizer__ngram_range\": [(1, 1), (2, 2)],\n",
        "    \"NB__alpha\": [1.0, 0.1]\n",
        "}\n",
        "\n",
        "pipe = Pipeline([(\"vectorizer\", CountVectorizer(tokenizer=preprocess)),\n",
        "                 (\"NB\", MultinomialNB())])\n",
        "gsc = GridSearchCV(pipe, parameters)\n",
        "gsc.fit(train_review[\"text\"].sample(frac=0.3), train_review[\"labels\"].sample(frac=0.3))"
      ]
    },
    {
      "cell_type": "code",
      "execution_count": null,
      "metadata": {
        "colab": {
          "base_uri": "https://localhost:8080/"
        },
        "id": "na2-dCl_h8PO",
        "outputId": "8b6831bf-55dc-412b-a5cf-b549e6ba78b8"
      },
      "outputs": [
        {
          "name": "stdout",
          "output_type": "stream",
          "text": [
            "              precision    recall  f1-score   support\n",
            "\n",
            "           0       0.23      0.02      0.03      2119\n",
            "           1       0.07      0.00      0.00      1127\n",
            "           2       0.00      0.00      0.00      1362\n",
            "           3       0.19      0.04      0.07      2898\n",
            "           4       0.46      0.94      0.62      6475\n",
            "\n",
            "    accuracy                           0.45     13981\n",
            "   macro avg       0.19      0.20      0.14     13981\n",
            "weighted avg       0.29      0.45      0.31     13981\n",
            "\n",
            "{'NB__alpha': 1.0, 'vectorizer__binary': True, 'vectorizer__ngram_range': (1, 1)}\n"
          ]
        }
      ],
      "source": [
        "# Do predictions for the best parameters found during grid search, and show best parameters\n",
        "ys = gsc.best_estimator_.predict(valid_review[\"text\"])\n",
        "print(classification_report(valid_review[\"labels\"], ys))\n",
        "print(gsc.best_params_)"
      ]
    },
    {
      "cell_type": "markdown",
      "metadata": {
        "id": "KKE3an0eXaZW"
      },
      "source": [
        "#### Complete run with best hyperparameters"
      ]
    },
    {
      "cell_type": "code",
      "execution_count": null,
      "metadata": {
        "id": "upFeUP4EXgOJ",
        "colab": {
          "base_uri": "https://localhost:8080/"
        },
        "outputId": "ab2362df-af9a-47bb-89f2-54e8fe316a5f"
      },
      "outputs": [
        {
          "output_type": "execute_result",
          "data": {
            "text/plain": [
              "Pipeline(steps=[('vectorizer',\n",
              "                 CountVectorizer(binary=True,\n",
              "                                 tokenizer=<function preprocess at 0x7f492e590310>)),\n",
              "                ('NB', MultinomialNB())])"
            ]
          },
          "metadata": {},
          "execution_count": 9
        }
      ],
      "source": [
        "pipe = Pipeline([(\"vectorizer\", CountVectorizer(tokenizer=preprocess, binary=True)),\n",
        "                 (\"NB\", MultinomialNB())])\n",
        "\n",
        "pipe.fit(train_review[\"text\"], train_review[\"labels\"])"
      ]
    },
    {
      "cell_type": "code",
      "execution_count": null,
      "metadata": {
        "colab": {
          "base_uri": "https://localhost:8080/"
        },
        "id": "rtPxPZkvXwAL",
        "outputId": "76452798-44be-4361-f6a9-4e376c61598b"
      },
      "outputs": [
        {
          "output_type": "stream",
          "name": "stdout",
          "text": [
            "              precision    recall  f1-score   support\n",
            "\n",
            "           0       0.62      0.73      0.67     42791\n",
            "           1       0.34      0.28      0.30     21865\n",
            "           2       0.39      0.31      0.34     27583\n",
            "           3       0.44      0.54      0.48     58116\n",
            "           4       0.79      0.72      0.76    129256\n",
            "\n",
            "    accuracy                           0.61    279611\n",
            "   macro avg       0.52      0.52      0.51    279611\n",
            "weighted avg       0.62      0.61      0.61    279611\n",
            "\n"
          ]
        }
      ],
      "source": [
        "# Do predictions\n",
        "ys = pipe.predict(test_review[\"text\"])\n",
        "print(classification_report(test_review[\"labels\"], ys))"
      ]
    },
    {
      "cell_type": "markdown",
      "metadata": {
        "id": "nOhT08lHM6ET"
      },
      "source": [
        "#### SVM With TfidfVectorizer"
      ]
    },
    {
      "cell_type": "code",
      "execution_count": 13,
      "metadata": {
        "id": "RAPfbp0aM5IB",
        "colab": {
          "base_uri": "https://localhost:8080/"
        },
        "outputId": "5b84fb05-b283-425e-e577-1994195b773f"
      },
      "outputs": [
        {
          "output_type": "execute_result",
          "data": {
            "text/plain": [
              "Pipeline(steps=[('vectorizer',\n",
              "                 TfidfVectorizer(tokenizer=<function preprocess at 0x7ff80e0ccf70>)),\n",
              "                ('SVM', LinearSVC())])"
            ]
          },
          "metadata": {},
          "execution_count": 13
        }
      ],
      "source": [
        "pipe = Pipeline([(\"vectorizer\", TfidfVectorizer(tokenizer=preprocess)),\n",
        "                 (\"SVM\", LinearSVC())])\n",
        "\n",
        "pipe.fit(train_review[\"text\"], train_review[\"labels\"])"
      ]
    },
    {
      "cell_type": "code",
      "execution_count": 14,
      "metadata": {
        "colab": {
          "base_uri": "https://localhost:8080/"
        },
        "id": "C6c8_tInNtlX",
        "outputId": "e133e176-8426-42b2-babf-dc895fc558f2"
      },
      "outputs": [
        {
          "output_type": "stream",
          "name": "stdout",
          "text": [
            "              precision    recall  f1-score   support\n",
            "\n",
            "           0       0.71      0.86      0.78     42477\n",
            "           1       0.44      0.20      0.28     21633\n",
            "           2       0.47      0.25      0.32     27611\n",
            "           3       0.49      0.37      0.42     58043\n",
            "           4       0.74      0.90      0.81    128887\n",
            "\n",
            "    accuracy                           0.67    278651\n",
            "   macro avg       0.57      0.52      0.52    278651\n",
            "weighted avg       0.63      0.67      0.64    278651\n",
            "\n"
          ]
        }
      ],
      "source": [
        "# Do predictions\n",
        "ys = pipe.predict(test_review[\"text\"])\n",
        "print(classification_report(test_review[\"labels\"], ys))"
      ]
    },
    {
      "cell_type": "markdown",
      "metadata": {
        "id": "cNItMIOj5djX"
      },
      "source": [
        "### Plot review data"
      ]
    },
    {
      "cell_type": "code",
      "execution_count": null,
      "metadata": {
        "colab": {
          "base_uri": "https://localhost:8080/",
          "height": 278
        },
        "id": "1GeEa-Wlb1cA",
        "outputId": "19d1deee-2462-4194-ae36-f71ac1e47069"
      },
      "outputs": [
        {
          "data": {
            "image/png": "[encoded data removed]",
            "text/plain": [
              "<Figure size 432x288 with 1 Axes>"
            ]
          },
          "metadata": {},
          "output_type": "display_data"
        }
      ],
      "source": [
        "import matplotlib.pyplot as plt\n",
        "\n",
        "# Create a bar plot for the training data\n",
        "train_review_df[\"stars\"].value_counts().sort_index().plot(kind=\"bar\")\n",
        "plt.title(\"Star Distribution\")\n",
        "plt.show()"
      ]
    },
    {
      "cell_type": "markdown",
      "metadata": {
        "id": "kQ6odpg25gp8"
      },
      "source": [
        "We can note that we have an uneven class balance in our dataset, with many 5-star reviews."
      ]
    }
  ],
  "metadata": {
    "colab": {
      "provenance": [],
      "mount_file_id": "1bXZyjnI1ZPuMwscK1hMDdaFlOyYMF4YJ",
      "authorship_tag": "ABX9TyPrlaE+r8y3oUglmgE7Uoab",
      "include_colab_link": true
    },
    "gpuClass": "standard",
    "kernelspec": {
      "display_name": "Python 3",
      "name": "python3"
    },
    "language_info": {
      "name": "python"
    },
    "widgets": {
      "application/vnd.jupyter.widget-state+json": {
        "4d8cc7d179e74044bad11b99554c0b2e": {
          "model_module": "@jupyter-widgets/controls",
          "model_name": "HBoxModel",
          "model_module_version": "1.5.0",
          "state": {
            "_dom_classes": [],
            "_model_module": "@jupyter-widgets/controls",
            "_model_module_version": "1.5.0",
            "_model_name": "HBoxModel",
            "_view_count": null,
            "_view_module": "@jupyter-widgets/controls",
            "_view_module_version": "1.5.0",
            "_view_name": "HBoxView",
            "box_style": "",
            "children": [
              "IPY_MODEL_4e0ebc30c4c04e5a805c2a760c027f36",
              "IPY_MODEL_dd6ad6203a0e484d81dca4190c795cd2",
              "IPY_MODEL_c29d791088164587a8154d8ca903a83f"
            ],
            "layout": "IPY_MODEL_272f9206d743401ca26385004df79da0"
          }
        },
        "4e0ebc30c4c04e5a805c2a760c027f36": {
          "model_module": "@jupyter-widgets/controls",
          "model_name": "HTMLModel",
          "model_module_version": "1.5.0",
          "state": {
            "_dom_classes": [],
            "_model_module": "@jupyter-widgets/controls",
            "_model_module_version": "1.5.0",
            "_model_name": "HTMLModel",
            "_view_count": null,
            "_view_module": "@jupyter-widgets/controls",
            "_view_module_version": "1.5.0",
            "_view_name": "HTMLView",
            "description": "",
            "description_tooltip": null,
            "layout": "IPY_MODEL_885b5d42d9b24a9b8403cdd686879a34",
            "placeholder": "​",
            "style": "IPY_MODEL_211c130021e84d8d94c2be3b736c1409",
            "value": "Downloading builder script: "
          }
        },
        "dd6ad6203a0e484d81dca4190c795cd2": {
          "model_module": "@jupyter-widgets/controls",
          "model_name": "FloatProgressModel",
          "model_module_version": "1.5.0",
          "state": {
            "_dom_classes": [],
            "_model_module": "@jupyter-widgets/controls",
            "_model_module_version": "1.5.0",
            "_model_name": "FloatProgressModel",
            "_view_count": null,
            "_view_module": "@jupyter-widgets/controls",
            "_view_module_version": "1.5.0",
            "_view_name": "ProgressView",
            "bar_style": "success",
            "description": "",
            "description_tooltip": null,
            "layout": "IPY_MODEL_53ba0de86b9b4e51ad32710eaff7a4db",
            "max": 1652,
            "min": 0,
            "orientation": "horizontal",
            "style": "IPY_MODEL_c8d7885e57084165a6070c8ca0f44ff8",
            "value": 1652
          }
        },
        "c29d791088164587a8154d8ca903a83f": {
          "model_module": "@jupyter-widgets/controls",
          "model_name": "HTMLModel",
          "model_module_version": "1.5.0",
          "state": {
            "_dom_classes": [],
            "_model_module": "@jupyter-widgets/controls",
            "_model_module_version": "1.5.0",
            "_model_name": "HTMLModel",
            "_view_count": null,
            "_view_module": "@jupyter-widgets/controls",
            "_view_module_version": "1.5.0",
            "_view_name": "HTMLView",
            "description": "",
            "description_tooltip": null,
            "layout": "IPY_MODEL_b897c1ff992d4d3fb1fc615b88668462",
            "placeholder": "​",
            "style": "IPY_MODEL_ba65441ac1104114b71a0f7c5ee39f44",
            "value": " 4.21k/? [00:00&lt;00:00, 297kB/s]"
          }
        },
        "272f9206d743401ca26385004df79da0": {
          "model_module": "@jupyter-widgets/base",
          "model_name": "LayoutModel",
          "model_module_version": "1.2.0",
          "state": {
            "_model_module": "@jupyter-widgets/base",
            "_model_module_version": "1.2.0",
            "_model_name": "LayoutModel",
            "_view_count": null,
            "_view_module": "@jupyter-widgets/base",
            "_view_module_version": "1.2.0",
            "_view_name": "LayoutView",
            "align_content": null,
            "align_items": null,
            "align_self": null,
            "border": null,
            "bottom": null,
            "display": null,
            "flex": null,
            "flex_flow": null,
            "grid_area": null,
            "grid_auto_columns": null,
            "grid_auto_flow": null,
            "grid_auto_rows": null,
            "grid_column": null,
            "grid_gap": null,
            "grid_row": null,
            "grid_template_areas": null,
            "grid_template_columns": null,
            "grid_template_rows": null,
            "height": null,
            "justify_content": null,
            "justify_items": null,
            "left": null,
            "margin": null,
            "max_height": null,
            "max_width": null,
            "min_height": null,
            "min_width": null,
            "object_fit": null,
            "object_position": null,
            "order": null,
            "overflow": null,
            "overflow_x": null,
            "overflow_y": null,
            "padding": null,
            "right": null,
            "top": null,
            "visibility": null,
            "width": null
          }
        },
        "885b5d42d9b24a9b8403cdd686879a34": {
          "model_module": "@jupyter-widgets/base",
          "model_name": "LayoutModel",
          "model_module_version": "1.2.0",
          "state": {
            "_model_module": "@jupyter-widgets/base",
            "_model_module_version": "1.2.0",
            "_model_name": "LayoutModel",
            "_view_count": null,
            "_view_module": "@jupyter-widgets/base",
            "_view_module_version": "1.2.0",
            "_view_name": "LayoutView",
            "align_content": null,
            "align_items": null,
            "align_self": null,
            "border": null,
            "bottom": null,
            "display": null,
            "flex": null,
            "flex_flow": null,
            "grid_area": null,
            "grid_auto_columns": null,
            "grid_auto_flow": null,
            "grid_auto_rows": null,
            "grid_column": null,
            "grid_gap": null,
            "grid_row": null,
            "grid_template_areas": null,
            "grid_template_columns": null,
            "grid_template_rows": null,
            "height": null,
            "justify_content": null,
            "justify_items": null,
            "left": null,
            "margin": null,
            "max_height": null,
            "max_width": null,
            "min_height": null,
            "min_width": null,
            "object_fit": null,
            "object_position": null,
            "order": null,
            "overflow": null,
            "overflow_x": null,
            "overflow_y": null,
            "padding": null,
            "right": null,
            "top": null,
            "visibility": null,
            "width": null
          }
        },
        "211c130021e84d8d94c2be3b736c1409": {
          "model_module": "@jupyter-widgets/controls",
          "model_name": "DescriptionStyleModel",
          "model_module_version": "1.5.0",
          "state": {
            "_model_module": "@jupyter-widgets/controls",
            "_model_module_version": "1.5.0",
            "_model_name": "DescriptionStyleModel",
            "_view_count": null,
            "_view_module": "@jupyter-widgets/base",
            "_view_module_version": "1.2.0",
            "_view_name": "StyleView",
            "description_width": ""
          }
        },
        "53ba0de86b9b4e51ad32710eaff7a4db": {
          "model_module": "@jupyter-widgets/base",
          "model_name": "LayoutModel",
          "model_module_version": "1.2.0",
          "state": {
            "_model_module": "@jupyter-widgets/base",
            "_model_module_version": "1.2.0",
            "_model_name": "LayoutModel",
            "_view_count": null,
            "_view_module": "@jupyter-widgets/base",
            "_view_module_version": "1.2.0",
            "_view_name": "LayoutView",
            "align_content": null,
            "align_items": null,
            "align_self": null,
            "border": null,
            "bottom": null,
            "display": null,
            "flex": null,
            "flex_flow": null,
            "grid_area": null,
            "grid_auto_columns": null,
            "grid_auto_flow": null,
            "grid_auto_rows": null,
            "grid_column": null,
            "grid_gap": null,
            "grid_row": null,
            "grid_template_areas": null,
            "grid_template_columns": null,
            "grid_template_rows": null,
            "height": null,
            "justify_content": null,
            "justify_items": null,
            "left": null,
            "margin": null,
            "max_height": null,
            "max_width": null,
            "min_height": null,
            "min_width": null,
            "object_fit": null,
            "object_position": null,
            "order": null,
            "overflow": null,
            "overflow_x": null,
            "overflow_y": null,
            "padding": null,
            "right": null,
            "top": null,
            "visibility": null,
            "width": null
          }
        },
        "c8d7885e57084165a6070c8ca0f44ff8": {
          "model_module": "@jupyter-widgets/controls",
          "model_name": "ProgressStyleModel",
          "model_module_version": "1.5.0",
          "state": {
            "_model_module": "@jupyter-widgets/controls",
            "_model_module_version": "1.5.0",
            "_model_name": "ProgressStyleModel",
            "_view_count": null,
            "_view_module": "@jupyter-widgets/base",
            "_view_module_version": "1.2.0",
            "_view_name": "StyleView",
            "bar_color": null,
            "description_width": ""
          }
        },
        "b897c1ff992d4d3fb1fc615b88668462": {
          "model_module": "@jupyter-widgets/base",
          "model_name": "LayoutModel",
          "model_module_version": "1.2.0",
          "state": {
            "_model_module": "@jupyter-widgets/base",
            "_model_module_version": "1.2.0",
            "_model_name": "LayoutModel",
            "_view_count": null,
            "_view_module": "@jupyter-widgets/base",
            "_view_module_version": "1.2.0",
            "_view_name": "LayoutView",
            "align_content": null,
            "align_items": null,
            "align_self": null,
            "border": null,
            "bottom": null,
            "display": null,
            "flex": null,
            "flex_flow": null,
            "grid_area": null,
            "grid_auto_columns": null,
            "grid_auto_flow": null,
            "grid_auto_rows": null,
            "grid_column": null,
            "grid_gap": null,
            "grid_row": null,
            "grid_template_areas": null,
            "grid_template_columns": null,
            "grid_template_rows": null,
            "height": null,
            "justify_content": null,
            "justify_items": null,
            "left": null,
            "margin": null,
            "max_height": null,
            "max_width": null,
            "min_height": null,
            "min_width": null,
            "object_fit": null,
            "object_position": null,
            "order": null,
            "overflow": null,
            "overflow_x": null,
            "overflow_y": null,
            "padding": null,
            "right": null,
            "top": null,
            "visibility": null,
            "width": null
          }
        },
        "ba65441ac1104114b71a0f7c5ee39f44": {
          "model_module": "@jupyter-widgets/controls",
          "model_name": "DescriptionStyleModel",
          "model_module_version": "1.5.0",
          "state": {
            "_model_module": "@jupyter-widgets/controls",
            "_model_module_version": "1.5.0",
            "_model_name": "DescriptionStyleModel",
            "_view_count": null,
            "_view_module": "@jupyter-widgets/base",
            "_view_module_version": "1.2.0",
            "_view_name": "StyleView",
            "description_width": ""
          }
        },
        "56252116bebd41bfa09979176aabc220": {
          "model_module": "@jupyter-widgets/controls",
          "model_name": "HBoxModel",
          "model_module_version": "1.5.0",
          "state": {
            "_dom_classes": [],
            "_model_module": "@jupyter-widgets/controls",
            "_model_module_version": "1.5.0",
            "_model_name": "HBoxModel",
            "_view_count": null,
            "_view_module": "@jupyter-widgets/controls",
            "_view_module_version": "1.5.0",
            "_view_name": "HBoxView",
            "box_style": "",
            "children": [
              "IPY_MODEL_9c7a2f4dc0ff4e5dbf762e9c19ca77c3",
              "IPY_MODEL_3d1e087a49764b8bb5e32e3303dc9818",
              "IPY_MODEL_8e7d5b820aef4dc98451cd30a8a60f99"
            ],
            "layout": "IPY_MODEL_be186113256b4d279ab6e04a0ae4526f"
          }
        },
        "9c7a2f4dc0ff4e5dbf762e9c19ca77c3": {
          "model_module": "@jupyter-widgets/controls",
          "model_name": "HTMLModel",
          "model_module_version": "1.5.0",
          "state": {
            "_dom_classes": [],
            "_model_module": "@jupyter-widgets/controls",
            "_model_module_version": "1.5.0",
            "_model_name": "HTMLModel",
            "_view_count": null,
            "_view_module": "@jupyter-widgets/controls",
            "_view_module_version": "1.5.0",
            "_view_name": "HTMLView",
            "description": "",
            "description_tooltip": null,
            "layout": "IPY_MODEL_48ccf307e5e54d139d67c990a0b1f98a",
            "placeholder": "​",
            "style": "IPY_MODEL_5281b5d5a6d14d1f8b6a0e7c0c1a3ed2",
            "value": "Downloading builder script: "
          }
        },
        "3d1e087a49764b8bb5e32e3303dc9818": {
          "model_module": "@jupyter-widgets/controls",
          "model_name": "FloatProgressModel",
          "model_module_version": "1.5.0",
          "state": {
            "_dom_classes": [],
            "_model_module": "@jupyter-widgets/controls",
            "_model_module_version": "1.5.0",
            "_model_name": "FloatProgressModel",
            "_view_count": null,
            "_view_module": "@jupyter-widgets/controls",
            "_view_module_version": "1.5.0",
            "_view_name": "ProgressView",
            "bar_style": "success",
            "description": "",
            "description_tooltip": null,
            "layout": "IPY_MODEL_c777e4426b0844c597fda90f926209b2",
            "max": 2318,
            "min": 0,
            "orientation": "horizontal",
            "style": "IPY_MODEL_78df544c68aa4a93b6f39611271dd199",
            "value": 2318
          }
        },
        "8e7d5b820aef4dc98451cd30a8a60f99": {
          "model_module": "@jupyter-widgets/controls",
          "model_name": "HTMLModel",
          "model_module_version": "1.5.0",
          "state": {
            "_dom_classes": [],
            "_model_module": "@jupyter-widgets/controls",
            "_model_module_version": "1.5.0",
            "_model_name": "HTMLModel",
            "_view_count": null,
            "_view_module": "@jupyter-widgets/controls",
            "_view_module_version": "1.5.0",
            "_view_name": "HTMLView",
            "description": "",
            "description_tooltip": null,
            "layout": "IPY_MODEL_bb67aaf167d84e04a8b7394b2385bac9",
            "placeholder": "​",
            "style": "IPY_MODEL_074da9221e6a452ea2e94275cbb4df67",
            "value": " 6.50k/? [00:00&lt;00:00, 252kB/s]"
          }
        },
        "be186113256b4d279ab6e04a0ae4526f": {
          "model_module": "@jupyter-widgets/base",
          "model_name": "LayoutModel",
          "model_module_version": "1.2.0",
          "state": {
            "_model_module": "@jupyter-widgets/base",
            "_model_module_version": "1.2.0",
            "_model_name": "LayoutModel",
            "_view_count": null,
            "_view_module": "@jupyter-widgets/base",
            "_view_module_version": "1.2.0",
            "_view_name": "LayoutView",
            "align_content": null,
            "align_items": null,
            "align_self": null,
            "border": null,
            "bottom": null,
            "display": null,
            "flex": null,
            "flex_flow": null,
            "grid_area": null,
            "grid_auto_columns": null,
            "grid_auto_flow": null,
            "grid_auto_rows": null,
            "grid_column": null,
            "grid_gap": null,
            "grid_row": null,
            "grid_template_areas": null,
            "grid_template_columns": null,
            "grid_template_rows": null,
            "height": null,
            "justify_content": null,
            "justify_items": null,
            "left": null,
            "margin": null,
            "max_height": null,
            "max_width": null,
            "min_height": null,
            "min_width": null,
            "object_fit": null,
            "object_position": null,
            "order": null,
            "overflow": null,
            "overflow_x": null,
            "overflow_y": null,
            "padding": null,
            "right": null,
            "top": null,
            "visibility": null,
            "width": null
          }
        },
        "48ccf307e5e54d139d67c990a0b1f98a": {
          "model_module": "@jupyter-widgets/base",
          "model_name": "LayoutModel",
          "model_module_version": "1.2.0",
          "state": {
            "_model_module": "@jupyter-widgets/base",
            "_model_module_version": "1.2.0",
            "_model_name": "LayoutModel",
            "_view_count": null,
            "_view_module": "@jupyter-widgets/base",
            "_view_module_version": "1.2.0",
            "_view_name": "LayoutView",
            "align_content": null,
            "align_items": null,
            "align_self": null,
            "border": null,
            "bottom": null,
            "display": null,
            "flex": null,
            "flex_flow": null,
            "grid_area": null,
            "grid_auto_columns": null,
            "grid_auto_flow": null,
            "grid_auto_rows": null,
            "grid_column": null,
            "grid_gap": null,
            "grid_row": null,
            "grid_template_areas": null,
            "grid_template_columns": null,
            "grid_template_rows": null,
            "height": null,
            "justify_content": null,
            "justify_items": null,
            "left": null,
            "margin": null,
            "max_height": null,
            "max_width": null,
            "min_height": null,
            "min_width": null,
            "object_fit": null,
            "object_position": null,
            "order": null,
            "overflow": null,
            "overflow_x": null,
            "overflow_y": null,
            "padding": null,
            "right": null,
            "top": null,
            "visibility": null,
            "width": null
          }
        },
        "5281b5d5a6d14d1f8b6a0e7c0c1a3ed2": {
          "model_module": "@jupyter-widgets/controls",
          "model_name": "DescriptionStyleModel",
          "model_module_version": "1.5.0",
          "state": {
            "_model_module": "@jupyter-widgets/controls",
            "_model_module_version": "1.5.0",
            "_model_name": "DescriptionStyleModel",
            "_view_count": null,
            "_view_module": "@jupyter-widgets/base",
            "_view_module_version": "1.2.0",
            "_view_name": "StyleView",
            "description_width": ""
          }
        },
        "c777e4426b0844c597fda90f926209b2": {
          "model_module": "@jupyter-widgets/base",
          "model_name": "LayoutModel",
          "model_module_version": "1.2.0",
          "state": {
            "_model_module": "@jupyter-widgets/base",
            "_model_module_version": "1.2.0",
            "_model_name": "LayoutModel",
            "_view_count": null,
            "_view_module": "@jupyter-widgets/base",
            "_view_module_version": "1.2.0",
            "_view_name": "LayoutView",
            "align_content": null,
            "align_items": null,
            "align_self": null,
            "border": null,
            "bottom": null,
            "display": null,
            "flex": null,
            "flex_flow": null,
            "grid_area": null,
            "grid_auto_columns": null,
            "grid_auto_flow": null,
            "grid_auto_rows": null,
            "grid_column": null,
            "grid_gap": null,
            "grid_row": null,
            "grid_template_areas": null,
            "grid_template_columns": null,
            "grid_template_rows": null,
            "height": null,
            "justify_content": null,
            "justify_items": null,
            "left": null,
            "margin": null,
            "max_height": null,
            "max_width": null,
            "min_height": null,
            "min_width": null,
            "object_fit": null,
            "object_position": null,
            "order": null,
            "overflow": null,
            "overflow_x": null,
            "overflow_y": null,
            "padding": null,
            "right": null,
            "top": null,
            "visibility": null,
            "width": null
          }
        },
        "78df544c68aa4a93b6f39611271dd199": {
          "model_module": "@jupyter-widgets/controls",
          "model_name": "ProgressStyleModel",
          "model_module_version": "1.5.0",
          "state": {
            "_model_module": "@jupyter-widgets/controls",
            "_model_module_version": "1.5.0",
            "_model_name": "ProgressStyleModel",
            "_view_count": null,
            "_view_module": "@jupyter-widgets/base",
            "_view_module_version": "1.2.0",
            "_view_name": "StyleView",
            "bar_color": null,
            "description_width": ""
          }
        },
        "bb67aaf167d84e04a8b7394b2385bac9": {
          "model_module": "@jupyter-widgets/base",
          "model_name": "LayoutModel",
          "model_module_version": "1.2.0",
          "state": {
            "_model_module": "@jupyter-widgets/base",
            "_model_module_version": "1.2.0",
            "_model_name": "LayoutModel",
            "_view_count": null,
            "_view_module": "@jupyter-widgets/base",
            "_view_module_version": "1.2.0",
            "_view_name": "LayoutView",
            "align_content": null,
            "align_items": null,
            "align_self": null,
            "border": null,
            "bottom": null,
            "display": null,
            "flex": null,
            "flex_flow": null,
            "grid_area": null,
            "grid_auto_columns": null,
            "grid_auto_flow": null,
            "grid_auto_rows": null,
            "grid_column": null,
            "grid_gap": null,
            "grid_row": null,
            "grid_template_areas": null,
            "grid_template_columns": null,
            "grid_template_rows": null,
            "height": null,
            "justify_content": null,
            "justify_items": null,
            "left": null,
            "margin": null,
            "max_height": null,
            "max_width": null,
            "min_height": null,
            "min_width": null,
            "object_fit": null,
            "object_position": null,
            "order": null,
            "overflow": null,
            "overflow_x": null,
            "overflow_y": null,
            "padding": null,
            "right": null,
            "top": null,
            "visibility": null,
            "width": null
          }
        },
        "074da9221e6a452ea2e94275cbb4df67": {
          "model_module": "@jupyter-widgets/controls",
          "model_name": "DescriptionStyleModel",
          "model_module_version": "1.5.0",
          "state": {
            "_model_module": "@jupyter-widgets/controls",
            "_model_module_version": "1.5.0",
            "_model_name": "DescriptionStyleModel",
            "_view_count": null,
            "_view_module": "@jupyter-widgets/base",
            "_view_module_version": "1.2.0",
            "_view_name": "StyleView",
            "description_width": ""
          }
        }
      }
    }
  },
  "nbformat": 4,
  "nbformat_minor": 0
}