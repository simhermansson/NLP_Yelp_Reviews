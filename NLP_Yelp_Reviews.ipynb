{
  "nbformat": 4,
  "nbformat_minor": 0,
  "metadata": {
    "colab": {
      "provenance": [],
      "mount_file_id": "1bXZyjnI1ZPuMwscK1hMDdaFlOyYMF4YJ",
      "authorship_tag": "ABX9TyMBciOLeAAEzdPlkDJSu8qM",
      "include_colab_link": true
    },
    "kernelspec": {
      "name": "python3",
      "display_name": "Python 3"
    },
    "language_info": {
      "name": "python"
    },
    "accelerator": "GPU",
    "gpuClass": "standard"
  },
  "cells": [
    {
      "cell_type": "markdown",
      "metadata": {
        "id": "view-in-github",
        "colab_type": "text"
      },
      "source": [
        "<a href=\"https://colab.research.google.com/github/simhermansson/NLP_Yelp_Reviews/blob/main/NLP_Yelp_Reviews.ipynb\" target=\"_parent\"><img src=\"https://colab.research.google.com/assets/colab-badge.svg\" alt=\"Open In Colab\"/></a>"
      ]
    },
    {
      "cell_type": "markdown",
      "source": [
        "### Read the two datasets to dataframes"
      ],
      "metadata": {
        "id": "Xc5_d_JNatqK"
      }
    },
    {
      "cell_type": "markdown",
      "source": [
        "We have one dataset for businesses, and one for reviews.\n",
        "The businesses dataset is 113 MB, while the review dataset is almost 5 GB!\n",
        "\n",
        "We must therefore be careful when loading that dataset to a dataframe, to not run out of RAM."
      ],
      "metadata": {
        "id": "wX6jl-f8f2fg"
      }
    },
    {
      "cell_type": "code",
      "source": [
        "import pandas as pd\n",
        "\n",
        "from google.colab import drive\n",
        "\n",
        "\n",
        "# Specify whether training final model or only using some of the data\n",
        "FINAL_MODEL = False\n",
        "\n",
        "# Mount Google Drive\n",
        "#drive.mount(\"/content/drive\")\n",
        "\n",
        "# Read business data to dataframe\n",
        "business_df = pd.read_json(\"/content/drive/MyDrive/Colab Data/yelp_academic_dataset_business.json\",\n",
        "                           lines=True)\n",
        "# Keep only strictly necessary columns\n",
        "business_df = business_df[[\"business_id\", \"stars\", \"review_count\"]]\n",
        "\n",
        "# Read review data to a JsonReader object, due to memory constraints\n",
        "review_df = None\n",
        "with pd.read_json(\"/content/drive/MyDrive/Colab Data/yelp_academic_dataset_review.json\",\n",
        "                  lines=True,\n",
        "                  chunksize=1000000) as reader:\n",
        "    # Keep only necessary columns and combine into a full dataframe\n",
        "    for chunk in reader:\n",
        "        chunk = chunk[[\"business_id\", \"stars\", \"text\"]]\n",
        "        review_df = chunk if review_df is None else pd.concat([review_df, chunk],\n",
        "                                                              ignore_index=True)\n",
        "    del chunk\n",
        "\n",
        "# Use a smaller review dataset if not training the final model\n",
        "if not FINAL_MODEL:\n",
        "    review_df = review_df.sample(frac=0.01, random_state=42).reset_index(drop=True)\n",
        "# Create train and validation sets for the review data\n",
        "train_review_df = review_df.sample(frac=0.8, random_state=42)\n",
        "valid_review_df = review_df.drop(train_review_df.index).reset_index(drop=True)\n",
        "train_review_df = train_review_df.reset_index(drop=True)\n",
        "del review_df"
      ],
      "metadata": {
        "id": "suVpvTDVlhDO"
      },
      "execution_count": 13,
      "outputs": []
    },
    {
      "cell_type": "markdown",
      "source": [
        "#### Save the development train and test dataframes to Google Drive to avoid having to read the entire dataset every time."
      ],
      "metadata": {
        "id": "bI09Q1M1h5Za"
      }
    },
    {
      "cell_type": "code",
      "source": [
        "if not FINAL_MODEL:\n",
        "    train_review_df.to_csv(\"/content/drive/MyDrive/Colab Data/dev_train_review_df.csv\", index=False)\n",
        "    valid_review_df.to_csv(\"/content/drive/MyDrive/Colab Data/dev_valid_review_df.csv\", index=False)"
      ],
      "metadata": {
        "id": "c4dguRSMiEkF"
      },
      "execution_count": 14,
      "outputs": []
    },
    {
      "cell_type": "markdown",
      "source": [
        "#### Read already saved training and test dataframes from Google Drive"
      ],
      "metadata": {
        "id": "0U1PhEXNixMp"
      }
    },
    {
      "cell_type": "code",
      "source": [
        "train_review_df = pd.read_csv(\"/content/drive/MyDrive/Colab Data/dev_train_review_df.csv\")\n",
        "valid_review_df = pd.read_csv(\"/content/drive/MyDrive/Colab Data/dev_valid_review_df.csv\")\n",
        "\n",
        "print(train_review_df)"
      ],
      "metadata": {
        "colab": {
          "base_uri": "https://localhost:8080/"
        },
        "id": "mIdstTVKi2a2",
        "outputId": "9400a8fd-dc47-4d36-fd41-63890853240e"
      },
      "execution_count": 20,
      "outputs": [
        {
          "output_type": "stream",
          "name": "stdout",
          "text": [
            "                  business_id  stars  \\\n",
            "0      3db1R99-mdSvx3QwryJSNQ      5   \n",
            "1      ZpgVL2z1kgRi954c9m9INw      5   \n",
            "2      oklGt-CSgK6EyAIUT94Ukg      1   \n",
            "3      VRGYwKE_Z77frm5NwLvJhw      5   \n",
            "4      cfWjbL7WaBMJZEBad0I1uw      1   \n",
            "...                       ...    ...   \n",
            "55917  1H8ReY5GlGcHJz7umVidkg      3   \n",
            "55918  OWOOc0YjU_kioLeEgo5VCA      3   \n",
            "55919  PoI93be9xfASm33sTSBpHQ      5   \n",
            "55920  dybSe2rNDk1hNMpes9y7Rw      5   \n",
            "55921  DFymbOEhIpWVE_d6BnHFmw      3   \n",
            "\n",
            "                                                    text  \n",
            "0      This is an awesome breakfast place. Food is al...  \n",
            "1      Wide variety of coffee and tea drinks. Simple ...  \n",
            "2      Horrible customer service. The managers are no...  \n",
            "3      My favorite burger joint in Nashville. The pri...  \n",
            "4      Cooper's Garage had my Mini for about two week...  \n",
            "...                                                  ...  \n",
            "55917  Jonathan Best Gourmet Grocer is an old-school,...  \n",
            "55918  I was visiting Nashville with my boyfriend and...  \n",
            "55919  Seriously, how have I not come here before thi...  \n",
            "55920  While we have thoroughly enjoyed traveling wit...  \n",
            "55921  The place looked kinda cool on the outside. Th...  \n",
            "\n",
            "[55922 rows x 3 columns]\n"
          ]
        }
      ]
    },
    {
      "cell_type": "code",
      "source": [],
      "metadata": {
        "id": "1GeEa-Wlb1cA"
      },
      "execution_count": null,
      "outputs": []
    }
  ]
}