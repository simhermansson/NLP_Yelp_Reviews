{
  "cells": [
    {
      "cell_type": "markdown",
      "metadata": {
        "id": "view-in-github",
        "colab_type": "text"
      },
      "source": [
        "<a href=\"https://colab.research.google.com/github/simhermansson/NLP_Yelp_Reviews/blob/main/NLP_Yelp_Reviews.ipynb\" target=\"_parent\"><img src=\"https://colab.research.google.com/assets/colab-badge.svg\" alt=\"Open In Colab\"/></a>"
      ]
    },
    {
      "cell_type": "markdown",
      "metadata": {
        "id": "8W3WjX0GsRM3"
      },
      "source": [
        "# Classify Yelp Review Stars"
      ]
    },
    {
      "cell_type": "markdown",
      "metadata": {
        "id": "Xc5_d_JNatqK"
      },
      "source": [
        "### Read the two datasets to dataframes"
      ]
    },
    {
      "cell_type": "markdown",
      "metadata": {
        "id": "wX6jl-f8f2fg"
      },
      "source": [
        "We have one dataset for businesses, and one for reviews.\n",
        "The businesses dataset is 113 MB, while the review dataset is almost 5 GB!\n",
        "\n",
        "We must therefore be careful when loading that dataset to a dataframe to not run out of RAM."
      ]
    },
    {
      "cell_type": "code",
      "execution_count": 1,
      "metadata": {
        "id": "ABPBHFDxjI9m"
      },
      "outputs": [],
      "source": [
        "# Specify whether training final model or only using some of the data\n",
        "FINAL_MODEL = True"
      ]
    },
    {
      "cell_type": "code",
      "execution_count": null,
      "metadata": {
        "id": "suVpvTDVlhDO"
      },
      "outputs": [],
      "source": [
        "!pip install pandas --quiet\n",
        "import pandas as pd\n",
        "\n",
        "from google.colab import drive\n",
        "\n",
        "\n",
        "# Mount Google Drive\n",
        "#drive.mount(\"/content/drive\")\n",
        "\n",
        "# Read business data to dataframe\n",
        "business_df = pd.read_json(\"/content/drive/MyDrive/Colab Data/yelp_academic_dataset_business.json\",\n",
        "                           lines=True)\n",
        "# Keep only strictly necessary columns\n",
        "business_df = business_df[[\"business_id\", \"stars\", \"review_count\"]]\n",
        "\n",
        "# Read review data to a JsonReader object, due to memory constraints\n",
        "review_df = None\n",
        "with pd.read_json(\"/content/drive/MyDrive/Colab Data/yelp_academic_dataset_review.json\",\n",
        "                  lines=True,\n",
        "                  chunksize=1000000) as reader:\n",
        "    # Keep only necessary columns and combine into a full dataframe\n",
        "    for chunk in reader:\n",
        "        chunk = chunk[[\"business_id\", \"stars\", \"text\"]]\n",
        "        review_df = chunk if review_df is None else pd.concat([review_df, chunk],\n",
        "                                                              ignore_index=True)\n",
        "    del chunk\n",
        "\n",
        "# Use a smaller dataset if not training the final model\n",
        "# Even with the final model, it requires too many computational resources to use the entire dataset\n",
        "# Therefore, a 20% subset is used\n",
        "if not FINAL_MODEL:\n",
        "    review_df = review_df.sample(frac=0.01, random_state=42).reset_index(drop=True)\n",
        "else:\n",
        "    review_df = review_df.sample(frac=0.2, random_state=42).reset_index(drop=True)\n",
        "\n",
        "# Create train, validation and test sets for the review data\n",
        "# Setting validation set to be very small in relation to the other sets, so it can be run through\n",
        "# relatively quickly during training of DistilBert\n",
        "train_review_df = review_df.sample(frac=0.8, random_state=42)\n",
        "valid_review_df = review_df.drop(train_review_df.index).reset_index(drop=True)\n",
        "train_review_df = train_review_df.reset_index(drop=True)\n",
        "\n",
        "test_review_df = valid_review_df.sample(frac=0.9965667, random_state=42)\n",
        "valid_review_df = valid_review_df.drop(test_review_df.index).reset_index(drop=True)\n",
        "test_review_df = test_review_df.reset_index(drop=True)\n",
        "\n",
        "del review_df"
      ]
    },
    {
      "cell_type": "markdown",
      "metadata": {
        "id": "bI09Q1M1h5Za"
      },
      "source": [
        "#### Save the development train and test dataframes to avoid having to read and modify the entire dataset every time."
      ]
    },
    {
      "cell_type": "code",
      "execution_count": null,
      "metadata": {
        "id": "c4dguRSMiEkF"
      },
      "outputs": [],
      "source": [
        "if not FINAL_MODEL:\n",
        "    train_review_df.to_csv(\"/content/drive/MyDrive/Colab Data/dev_train_review_df.csv\", index=False)\n",
        "    valid_review_df.to_csv(\"/content/drive/MyDrive/Colab Data/dev_valid_review_df.csv\", index=False)\n",
        "    test_review_df.to_csv(\"/content/drive/MyDrive/Colab Data/dev_test_review_df.csv\", index=False)\n",
        "else:\n",
        "    train_review_df.to_csv(\"/content/drive/MyDrive/Colab Data/full_train_review_df.csv\", index=False)\n",
        "    valid_review_df.to_csv(\"/content/drive/MyDrive/Colab Data/full_valid_review_df.csv\", index=False)\n",
        "    test_review_df.to_csv(\"/content/drive/MyDrive/Colab Data/full_test_review_df.csv\", index=False)"
      ]
    },
    {
      "cell_type": "markdown",
      "metadata": {
        "id": "0U1PhEXNixMp"
      },
      "source": [
        "#### Read already saved training and test dataframes"
      ]
    },
    {
      "cell_type": "code",
      "execution_count": null,
      "metadata": {
        "id": "mIdstTVKi2a2"
      },
      "outputs": [],
      "source": [
        "!pip install datasets --quiet\n",
        "\n",
        "from datasets import load_dataset, Features, Value, ClassLabel, concatenate_datasets, DownloadMode\n",
        "\n",
        "import pandas as pd\n",
        "\n",
        "\n",
        "features = Features({\n",
        "    \"business_id\": Value(dtype=\"string\"),\n",
        "    \"text\": Value(dtype=\"string\"),\n",
        "    \"stars\": ClassLabel(num_classes=5, names=[\"1\", \"2\", \"3\", \"4\", \"5\"])\n",
        "})\n",
        "\n",
        "if not FINAL_MODEL:\n",
        "    train_review = load_dataset(\"csv\", data_files=\"/content/drive/MyDrive/Colab Data/dev_train_review_df.csv\",\n",
        "                                features=features)[\"train\"]\n",
        "    valid_review = load_dataset(\"csv\", data_files=\"/content/drive/MyDrive/Colab Data/dev_valid_review_df.csv\",\n",
        "                                features=features)[\"train\"]\n",
        "    test_review = load_dataset(\"csv\", data_files=\"/content/drive/MyDrive/Colab Data/dev_test_review_df.csv\",\n",
        "                               features=features)[\"train\"]\n",
        "else:\n",
        "    train_review = load_dataset(\"csv\", data_files=\"/content/drive/MyDrive/Colab Data/full_train_review_df.csv\",\n",
        "                                features=features, download_mode=DownloadMode.FORCE_REDOWNLOAD)[\"train\"]\n",
        "    valid_review = load_dataset(\"csv\", data_files=\"/content/drive/MyDrive/Colab Data/full_valid_review_df.csv\",\n",
        "                                features=features, download_mode=DownloadMode.FORCE_REDOWNLOAD)[\"train\"]\n",
        "    test_review = load_dataset(\"csv\", data_files=\"/content/drive/MyDrive/Colab Data/full_test_review_df.csv\",\n",
        "                               features=features, download_mode=DownloadMode.FORCE_REDOWNLOAD)[\"train\"]"
      ]
    },
    {
      "cell_type": "markdown",
      "metadata": {
        "id": "UaLj6sbVd6uU"
      },
      "source": [
        "#### Make datasets ready to be used, remove unused columns and rename to HuggingFace standards"
      ]
    },
    {
      "cell_type": "code",
      "execution_count": 3,
      "metadata": {
        "colab": {
          "base_uri": "https://localhost:8080/"
        },
        "id": "s585EYZd4T3o",
        "outputId": "4279c05b-2dd2-476f-abc3-61e75f6c0fb0"
      },
      "outputs": [
        {
          "output_type": "stream",
          "name": "stdout",
          "text": [
            "{'text': Value(dtype='string', id=None), 'labels': ClassLabel(names=['1', '2', '3', '4', '5'], id=None)}\n"
          ]
        }
      ],
      "source": [
        "train_review = train_review.remove_columns(\"business_id\")\n",
        "valid_review = valid_review.remove_columns(\"business_id\")\n",
        "test_review = test_review.remove_columns(\"business_id\")\n",
        "\n",
        "train_review = train_review.rename_column(\"stars\", \"labels\")\n",
        "valid_review = valid_review.rename_column(\"stars\", \"labels\")\n",
        "test_review = test_review.rename_column(\"stars\", \"labels\")\n",
        "\n",
        "print(train_review.features)"
      ]
    },
    {
      "cell_type": "markdown",
      "metadata": {
        "id": "JFBDxJ0lyp6b"
      },
      "source": [
        "# Fine-tune a DistilBert Model"
      ]
    },
    {
      "cell_type": "code",
      "execution_count": null,
      "metadata": {
        "id": "9rvaxbVC5hW3"
      },
      "outputs": [],
      "source": [
        "!pip install transformers wandb==0.13.4 torch --quiet\n",
        "\n",
        "from transformers import (AutoTokenizer, DataCollatorWithPadding,\n",
        "                          AutoModelForSequenceClassification, TrainingArguments, Trainer)\n",
        "from torch.utils.data import Dataset, DataLoader\n",
        "from datasets import load_dataset, load_metric\n",
        "import wandb\n",
        "\n",
        "import numpy as np\n",
        "\n",
        "\n",
        "# Use the GPU\n",
        "device = \"cuda\"\n",
        "\n",
        "# Load pre-trained DistilBert model from HuggingFace\n",
        "model = AutoModelForSequenceClassification.from_pretrained(\"distilbert-base-uncased\", num_labels=5)\n",
        "\n",
        "# Tokenize the training and validation data\n",
        "tokenizer = AutoTokenizer.from_pretrained(\"distilbert-base-uncased\")\n",
        "\n",
        "train_review = train_review.map(\n",
        "    lambda row: tokenizer(row[\"text\"], truncation=True)\n",
        ", batched=True)\n",
        "valid_review = valid_review.map(\n",
        "    lambda row: tokenizer(row[\"text\"], truncation=True)\n",
        ", batched=True)\n",
        "test_review = test_review.map(\n",
        "    lambda row: tokenizer(row[\"text\"], truncation=True)\n",
        ", batched=True)\n",
        "\n",
        "# Create a collator that converts input into tensors and builds batches\n",
        "collator = DataCollatorWithPadding(tokenizer=tokenizer)\n",
        "\n",
        "# Create a function for the evaluation metrics that are to be used\n",
        "def metrics(eval):\n",
        "    logits, labels = eval\n",
        "    predictions = np.argmax(logits, axis=-1)\n",
        "    acc = load_metric(\"accuracy\").compute(predictions=predictions, references=labels)[\"accuracy\"]\n",
        "    f1 = load_metric(\"f1\").compute(predictions=predictions, references=labels,\n",
        "                                   average=None)[\"f1\"]\n",
        "    precision = load_metric(\"precision\").compute(predictions=predictions, references=labels,\n",
        "                                   average=None)[\"precision\"]\n",
        "    recall = load_metric(\"recall\").compute(predictions=predictions, references=labels,\n",
        "                                   average=None)[\"recall\"]\n",
        "    return {\"Accuracy\": acc, \"F1-Score\": f1, \"Precision\": precision, \"Recall\": recall}\n",
        "\n",
        "# Set up training arguments\n",
        "args = TrainingArguments(\n",
        "    output_dir=\"/content/drive/MyDrive/Colab Data/models\",\n",
        "    overwrite_output_dir=True,\n",
        "    per_device_train_batch_size=32,\n",
        "    per_device_eval_batch_size=32,\n",
        "    num_train_epochs=0.5,\n",
        "    save_strategy=\"steps\",\n",
        "    save_steps=200,\n",
        "    logging_steps=200,\n",
        "    eval_steps=200,\n",
        "    evaluation_strategy=\"steps\"\n",
        ")\n",
        "\n",
        "# Set up HuggingFace trainer\n",
        "trainer = Trainer(\n",
        "    model=model,\n",
        "    args=args,\n",
        "    train_dataset=train_review,\n",
        "    eval_dataset=valid_review,\n",
        "    tokenizer=tokenizer,\n",
        "    data_collator=collator,\n",
        "    compute_metrics=metrics\n",
        ")"
      ]
    },
    {
      "cell_type": "code",
      "source": [
        "# Initialize weight and biases for tracking metrics\n",
        "wandb.init()\n",
        "\n",
        "# Train the model\n",
        "trainer.train()\n",
        "\n",
        "# Evaluate the model\n",
        "trainer.evaluate()\n",
        "\n",
        "# End wandb logging\n",
        "wandb.finish()"
      ],
      "metadata": {
        "id": "XvFDOvSGs-MO"
      },
      "execution_count": null,
      "outputs": []
    },
    {
      "cell_type": "markdown",
      "metadata": {
        "id": "jkvLq64fcZBa"
      },
      "source": [
        "#### Calculate performance on the test set"
      ]
    },
    {
      "cell_type": "code",
      "execution_count": 5,
      "metadata": {
        "id": "OdNjGavUcdYd",
        "colab": {
          "base_uri": "https://localhost:8080/",
          "height": 217,
          "referenced_widgets": [
            "1dd888a2830042cf838cec0504ac32bb",
            "22c9aaab5083455cbd90e03d3bc56db1",
            "bc6b29b7dee7464c86df874f670eb1be",
            "7aca8b6733d0434e92d0a37c999b607b",
            "2a6b54f8861e4bbfadde33a2ce2d3094",
            "3c9a67d6b60147e7b3e37063c1d7256c",
            "b1fb9badce074ce09b383ed0507ad0db",
            "bbdd7bc992d54dd79462e95394301d7f",
            "257409f253ae46a2b225734907a05d46",
            "79453aa8b9cf4ca99271a5a8804af813",
            "47d94987073b4df6bf923651a543419e",
            "58b43093f5e14fc18fdfe6bf90a08007",
            "e478579e27a741519675ae5c74d0b308",
            "6bf567fcafd04842b87496848f4a0e7a",
            "e88f673798a3411c89ea07a3e1cc67b3",
            "b10ffeab61f545cb856b74eaa333423e",
            "0c0e21c31a9642649f8a13ff12cd3b4c",
            "15e4f6dc78474069849fe3da639dfc5e",
            "b9d4d552a21a4df5bc3b782eb47d5546",
            "05a333056e5241528901745b489919d4",
            "16baaf4ea1174b6487eea9ec022e82d7",
            "195d1a07da0f4a83aaae25f32ff09b88",
            "4a732a7ea0fa498baec66b7c9a923838",
            "89e2b18ac8c440329ed3f07464a11138",
            "52a0fb88383846b38b72530a5cb03698",
            "256496ba64b5477ea13ce8f4573a0f1d",
            "01b2dfb262284b5d9c14d091abcd07c0",
            "c325e1f5977646bcbb8edbce0793b06f",
            "3427df236c5e4d4c96efe2360acb893a",
            "e0df76c3d12944e7af4fa16b023167d1",
            "2967b06f2745485dace9592ed818c94c",
            "94035d4ae04248dc93338adbc5888241",
            "3cf00fd1149a41d1813257aa657da9e0",
            "dde4317568574acdbbcb669badde8de9",
            "772bd2751c6948ff8f9da9d0b703ed42",
            "672485f33fb744e0bb240cee55bad2f8",
            "503aef18ed87458082afa16268a3d7d2",
            "e39f7667476441f9a0959a01991fac3e",
            "025dc48b922342e7af4cf72406e75bc1",
            "23c8aca2791040f0aa6ffbe7b2abe9d0",
            "605f6be300fe4f4aa31a69ad47f4e96c",
            "46fb581961a241ee8e64b949eaf677c1",
            "45ff1d5efc834db6b654424254502cfb",
            "2cef82cff4c34c758a086abbe9f28eaf"
          ]
        },
        "outputId": "4cfc1838-2e5d-4265-e391-62f5f88d79f2"
      },
      "outputs": [
        {
          "output_type": "stream",
          "name": "stderr",
          "text": [
            "You're using a DistilBertTokenizerFast tokenizer. Please note that with a fast tokenizer, using the `__call__` method is faster than using a method to encode the text followed by a call to the `pad` method to get a padded encoding.\n"
          ]
        },
        {
          "output_type": "display_data",
          "data": {
            "text/plain": [
              "<IPython.core.display.HTML object>"
            ],
            "text/html": []
          },
          "metadata": {}
        },
        {
          "output_type": "stream",
          "name": "stderr",
          "text": [
            "<ipython-input-4-d76b3d030cf1>:38: FutureWarning: load_metric is deprecated and will be removed in the next major version of datasets. Use 'evaluate.load' instead, from the new library 🤗 Evaluate: https://huggingface.co/docs/evaluate\n",
            "  acc = load_metric(\"accuracy\").compute(predictions=predictions, references=labels)[\"accuracy\"]\n"
          ]
        },
        {
          "output_type": "display_data",
          "data": {
            "text/plain": [
              "Downloading builder script:   0%|          | 0.00/1.65k [00:00<?, ?B/s]"
            ],
            "application/vnd.jupyter.widget-view+json": {
              "version_major": 2,
              "version_minor": 0,
              "model_id": "1dd888a2830042cf838cec0504ac32bb"
            }
          },
          "metadata": {}
        },
        {
          "output_type": "display_data",
          "data": {
            "text/plain": [
              "Downloading builder script:   0%|          | 0.00/2.32k [00:00<?, ?B/s]"
            ],
            "application/vnd.jupyter.widget-view+json": {
              "version_major": 2,
              "version_minor": 0,
              "model_id": "58b43093f5e14fc18fdfe6bf90a08007"
            }
          },
          "metadata": {}
        },
        {
          "output_type": "display_data",
          "data": {
            "text/plain": [
              "Downloading builder script:   0%|          | 0.00/2.58k [00:00<?, ?B/s]"
            ],
            "application/vnd.jupyter.widget-view+json": {
              "version_major": 2,
              "version_minor": 0,
              "model_id": "4a732a7ea0fa498baec66b7c9a923838"
            }
          },
          "metadata": {}
        },
        {
          "output_type": "display_data",
          "data": {
            "text/plain": [
              "Downloading builder script:   0%|          | 0.00/2.52k [00:00<?, ?B/s]"
            ],
            "application/vnd.jupyter.widget-view+json": {
              "version_major": 2,
              "version_minor": 0,
              "model_id": "dde4317568574acdbbcb669badde8de9"
            }
          },
          "metadata": {}
        }
      ],
      "source": [
        "# Load saved fine-tuned model\n",
        "model = AutoModelForSequenceClassification.from_pretrained(\"/content/drive/MyDrive/Colab Data/models/checkpoint-15600\", num_labels=5)\n",
        "\n",
        "# Load the saved model to the trainer\n",
        "trainer = Trainer(\n",
        "    model=model,\n",
        "    args=args,\n",
        "    train_dataset=train_review,\n",
        "    eval_dataset=valid_review,\n",
        "    tokenizer=tokenizer,\n",
        "    data_collator=collator,\n",
        "    compute_metrics=metrics\n",
        ")\n",
        "\n",
        "# Predict on the test set\n",
        "predictions = trainer.predict(test_review)"
      ]
    },
    {
      "cell_type": "code",
      "source": [
        "predictions.metrics"
      ],
      "metadata": {
        "colab": {
          "base_uri": "https://localhost:8080/"
        },
        "id": "scgyVaDNhbdl",
        "outputId": "6ea5799a-8ec0-48e0-d3f8-a660b39be982"
      },
      "execution_count": 6,
      "outputs": [
        {
          "output_type": "execute_result",
          "data": {
            "text/plain": [
              "{'test_loss': 0.5618391036987305,\n",
              " 'test_Accuracy': 0.7616875589895604,\n",
              " 'test_F1-Score': array([0.84956008, 0.50742764, 0.57806798, 0.59572506, 0.87081855]),\n",
              " 'test_Precision': array([0.80614208, 0.56654317, 0.63478035, 0.64087455, 0.83537646]),\n",
              " 'test_Recall': array([0.89792123, 0.4594832 , 0.53065807, 0.55651844, 0.90940126]),\n",
              " 'test_runtime': 4341.2613,\n",
              " 'test_samples_per_second': 64.187,\n",
              " 'test_steps_per_second': 2.006}"
            ]
          },
          "metadata": {},
          "execution_count": 6
        }
      ]
    },
    {
      "cell_type": "markdown",
      "metadata": {
        "id": "Ia2LzjFgfWtE"
      },
      "source": [
        "# Baseline Methods"
      ]
    },
    {
      "cell_type": "markdown",
      "source": [
        "#### Set up the datasets"
      ],
      "metadata": {
        "id": "8msswxgGD2bC"
      }
    },
    {
      "cell_type": "code",
      "execution_count": null,
      "metadata": {
        "id": "rBFY0Qkr97wZ"
      },
      "outputs": [],
      "source": [
        "!pip install scikit-learn spacy --quiet\n",
        "!python3 -m spacy download en_core_web_sm\n",
        "\n",
        "import spacy\n",
        "from sklearn.naive_bayes import MultinomialNB\n",
        "from sklearn.metrics import classification_report\n",
        "from sklearn.pipeline import Pipeline\n",
        "from sklearn.feature_extraction.text import CountVectorizer\n",
        "from sklearn.feature_extraction.text import TfidfVectorizer\n",
        "from sklearn.svm import LinearSVC\n",
        "\n",
        "\n",
        "# Combine train and validation sets, as we only do hyperparameter tuning with cross-validation here\n",
        "train_review = concatenate_datasets([train_review, valid_review])\n",
        "\n",
        "# Convert to pandas\n",
        "train_review = train_review.to_pandas()\n",
        "test_review = test_review.to_pandas()\n",
        "\n",
        "# There were some NaNs, remove these\n",
        "train_review.dropna(inplace=True)\n",
        "train_review.head()\n",
        "train_review[\"labels\"] = train_review[\"labels\"].astype(\"int64\")\n",
        "train_review[\"labels\"]\n",
        "\n",
        "del valid_review"
      ]
    },
    {
      "cell_type": "markdown",
      "source": [
        "#### Create the preprocessing function for lemmatizing, removal of stop words, and removal of non alphabetic characters"
      ],
      "metadata": {
        "id": "9iaBK4qgQhCb"
      }
    },
    {
      "cell_type": "code",
      "source": [
        "# Load spacy\n",
        "nlp = spacy.load(\"en_core_web_sm\", disable=[\"parser\", \"ner\"])\n",
        "\n",
        "def preprocess(text):\n",
        "    \"\"\" Lemmatize, remove stop words and keep only alphabetic characters. \"\"\"\n",
        "    doc = nlp(text)\n",
        "    return [t.lemma_ for t in doc if not t.is_stop and t.is_alpha]"
      ],
      "metadata": {
        "id": "j4JOynJSQfS5"
      },
      "execution_count": null,
      "outputs": []
    },
    {
      "cell_type": "markdown",
      "metadata": {
        "id": "SbjagpFEHkCR"
      },
      "source": [
        "#### Naive Bayes Classifier With CountVectorizer"
      ]
    },
    {
      "cell_type": "code",
      "execution_count": null,
      "metadata": {
        "id": "sqp5TBsC7uka"
      },
      "outputs": [],
      "source": [
        "# Create a pipeline with a CountVectorizer and a Naive Bayes Classifier\n",
        "pipe = Pipeline([(\"vectorizer\", CountVectorizer(tokenizer=preprocess)),\n",
        "                 (\"NB\", MultinomialNB())])\n",
        "\n",
        "pipe.fit(train_review[\"text\"], train_review[\"labels\"])"
      ]
    },
    {
      "cell_type": "code",
      "execution_count": null,
      "metadata": {
        "colab": {
          "base_uri": "https://localhost:8080/"
        },
        "id": "J9NdyX-eCprn",
        "outputId": "af4b8877-0e11-46c0-ae7a-e81156124df7"
      },
      "outputs": [
        {
          "output_type": "stream",
          "name": "stdout",
          "text": [
            "              precision    recall  f1-score   support\n",
            "\n",
            "           0       0.62      0.71      0.66     42791\n",
            "           1       0.32      0.29      0.30     21865\n",
            "           2       0.38      0.33      0.35     27583\n",
            "           3       0.43      0.56      0.49     58116\n",
            "           4       0.80      0.69      0.74    129256\n",
            "\n",
            "    accuracy                           0.60    279611\n",
            "   macro avg       0.51      0.52      0.51    279611\n",
            "weighted avg       0.62      0.60      0.60    279611\n",
            "\n"
          ]
        }
      ],
      "source": [
        "# Do predictions\n",
        "ys = pipe.predict(test_review[\"text\"])\n",
        "print(classification_report(test_review[\"labels\"], ys))"
      ]
    },
    {
      "cell_type": "markdown",
      "metadata": {
        "id": "REl0aBAUhAuR"
      },
      "source": [
        "#### Naive Bayes Classifier With CountVectorizer Grid Search"
      ]
    },
    {
      "cell_type": "markdown",
      "metadata": {
        "id": "ADlAUTXFhrCq"
      },
      "source": [
        "Note: Should not be run with the complete dataset"
      ]
    },
    {
      "cell_type": "code",
      "execution_count": null,
      "metadata": {
        "id": "zW8ZOc68hACa"
      },
      "outputs": [],
      "source": [
        "from sklearn.model_selection import GridSearchCV\n",
        "\n",
        "\n",
        "# Parameters for grid search\n",
        "parameters = {\n",
        "    \"vectorizer__binary\": [True, False],\n",
        "    \"vectorizer__ngram_range\": [(1, 1), (2, 2)],\n",
        "    \"NB__alpha\": [1.0, 0.1]\n",
        "}\n",
        "\n",
        "pipe = Pipeline([(\"vectorizer\", CountVectorizer(tokenizer=preprocess)),\n",
        "                 (\"NB\", MultinomialNB())])\n",
        "gsc = GridSearchCV(pipe, parameters)\n",
        "gsc.fit(train_review[\"text\"].sample(frac=0.3), train_review[\"labels\"].sample(frac=0.3))"
      ]
    },
    {
      "cell_type": "code",
      "execution_count": null,
      "metadata": {
        "colab": {
          "base_uri": "https://localhost:8080/"
        },
        "id": "na2-dCl_h8PO",
        "outputId": "8b6831bf-55dc-412b-a5cf-b549e6ba78b8"
      },
      "outputs": [
        {
          "name": "stdout",
          "output_type": "stream",
          "text": [
            "              precision    recall  f1-score   support\n",
            "\n",
            "           0       0.23      0.02      0.03      2119\n",
            "           1       0.07      0.00      0.00      1127\n",
            "           2       0.00      0.00      0.00      1362\n",
            "           3       0.19      0.04      0.07      2898\n",
            "           4       0.46      0.94      0.62      6475\n",
            "\n",
            "    accuracy                           0.45     13981\n",
            "   macro avg       0.19      0.20      0.14     13981\n",
            "weighted avg       0.29      0.45      0.31     13981\n",
            "\n",
            "{'NB__alpha': 1.0, 'vectorizer__binary': True, 'vectorizer__ngram_range': (1, 1)}\n"
          ]
        }
      ],
      "source": [
        "# Do predictions for the best parameters found during grid search, and show best parameters\n",
        "ys = gsc.best_estimator_.predict(valid_review[\"text\"])\n",
        "print(classification_report(valid_review[\"labels\"], ys))\n",
        "print(gsc.best_params_)"
      ]
    },
    {
      "cell_type": "markdown",
      "metadata": {
        "id": "KKE3an0eXaZW"
      },
      "source": [
        "#### Complete run with best hyperparameters"
      ]
    },
    {
      "cell_type": "code",
      "execution_count": null,
      "metadata": {
        "id": "upFeUP4EXgOJ"
      },
      "outputs": [],
      "source": [
        "pipe = Pipeline([(\"vectorizer\", CountVectorizer(tokenizer=preprocess, binary=True)),\n",
        "                 (\"NB\", MultinomialNB())])\n",
        "\n",
        "pipe.fit(train_review[\"text\"], train_review[\"labels\"])"
      ]
    },
    {
      "cell_type": "code",
      "execution_count": null,
      "metadata": {
        "colab": {
          "base_uri": "https://localhost:8080/"
        },
        "id": "rtPxPZkvXwAL",
        "outputId": "76452798-44be-4361-f6a9-4e376c61598b"
      },
      "outputs": [
        {
          "output_type": "stream",
          "name": "stdout",
          "text": [
            "              precision    recall  f1-score   support\n",
            "\n",
            "           0       0.62      0.73      0.67     42791\n",
            "           1       0.34      0.28      0.30     21865\n",
            "           2       0.39      0.31      0.34     27583\n",
            "           3       0.44      0.54      0.48     58116\n",
            "           4       0.79      0.72      0.76    129256\n",
            "\n",
            "    accuracy                           0.61    279611\n",
            "   macro avg       0.52      0.52      0.51    279611\n",
            "weighted avg       0.62      0.61      0.61    279611\n",
            "\n"
          ]
        }
      ],
      "source": [
        "# Do predictions\n",
        "ys = pipe.predict(test_review[\"text\"])\n",
        "print(classification_report(test_review[\"labels\"], ys))"
      ]
    },
    {
      "cell_type": "markdown",
      "metadata": {
        "id": "nOhT08lHM6ET"
      },
      "source": [
        "#### SVM With TfidfVectorizer"
      ]
    },
    {
      "cell_type": "code",
      "execution_count": null,
      "metadata": {
        "id": "RAPfbp0aM5IB"
      },
      "outputs": [],
      "source": [
        "pipe = Pipeline([(\"vectorizer\", TfidfVectorizer(tokenizer=preprocess)),\n",
        "                 (\"SVM\", LinearSVC())])\n",
        "\n",
        "pipe.fit(train_review[\"text\"], train_review[\"labels\"])"
      ]
    },
    {
      "cell_type": "code",
      "execution_count": null,
      "metadata": {
        "colab": {
          "base_uri": "https://localhost:8080/"
        },
        "id": "C6c8_tInNtlX",
        "outputId": "e133e176-8426-42b2-babf-dc895fc558f2"
      },
      "outputs": [
        {
          "output_type": "stream",
          "name": "stdout",
          "text": [
            "              precision    recall  f1-score   support\n",
            "\n",
            "           0       0.71      0.86      0.78     42477\n",
            "           1       0.44      0.20      0.28     21633\n",
            "           2       0.47      0.25      0.32     27611\n",
            "           3       0.49      0.37      0.42     58043\n",
            "           4       0.74      0.90      0.81    128887\n",
            "\n",
            "    accuracy                           0.67    278651\n",
            "   macro avg       0.57      0.52      0.52    278651\n",
            "weighted avg       0.63      0.67      0.64    278651\n",
            "\n"
          ]
        }
      ],
      "source": [
        "# Do predictions\n",
        "ys = pipe.predict(test_review[\"text\"])\n",
        "print(classification_report(test_review[\"labels\"], ys))"
      ]
    },
    {
      "cell_type": "markdown",
      "metadata": {
        "id": "cNItMIOj5djX"
      },
      "source": [
        "# Plot review data"
      ]
    },
    {
      "cell_type": "code",
      "source": [
        "import matplotlib.pyplot as plt\n",
        "\n",
        "# Create a bar plot for the training data and save it to wandb\n",
        "wandb.init()\n",
        "train_review[\"labels\"].value_counts().sort_index().plot(kind=\"bar\")\n",
        "plt.title(\"Star Distribution\")\n",
        "plt.xlabel(\"Stars\")\n",
        "plt.ylabel(\"Reviews\")\n",
        "plt.xticks(np.arange(5), [\"1\", \"2\", \"3\", \"4\", \"5\"])\n",
        "wandb.log({\"chart\": plt})\n",
        "wandb.finish()"
      ],
      "metadata": {
        "id": "v8-DJe0LlNmA"
      },
      "execution_count": null,
      "outputs": []
    },
    {
      "cell_type": "code",
      "source": [
        "# Show it here as well\n",
        "train_review[\"labels\"].value_counts().sort_index().plot(kind=\"bar\")\n",
        "plt.title(\"Star Distribution\")\n",
        "plt.xlabel(\"Stars\")\n",
        "plt.ylabel(\"Reviews\")\n",
        "plt.xticks(np.arange(5), [\"1\", \"2\", \"3\", \"4\", \"5\"])\n",
        "plt.show()"
      ],
      "metadata": {
        "colab": {
          "base_uri": "https://localhost:8080/",
          "height": 292
        },
        "id": "gQnHMV1ktb4W",
        "outputId": "a6319401-11cf-4b45-dc6d-6833946d1a12"
      },
      "execution_count": null,
      "outputs": [
        {
          "output_type": "display_data",
          "data": {
            "text/plain": [
              "<Figure size 432x288 with 1 Axes>"
            ],
            "image/png": "[encoded data removed]"
          },
          "metadata": {
            "needs_background": "light"
          }
        }
      ]
    },
    {
      "cell_type": "markdown",
      "metadata": {
        "id": "kQ6odpg25gp8"
      },
      "source": [
        "We can note that we have an uneven class balance in our dataset, with many 5-star reviews but with less of the others."
      ]
    }
  ],
  "metadata": {
    "colab": {
      "provenance": [],
      "mount_file_id": "1bXZyjnI1ZPuMwscK1hMDdaFlOyYMF4YJ",
      "authorship_tag": "ABX9TyPJZuxxA70AcYSbvra4i39W",
      "include_colab_link": true
    },
    "gpuClass": "standard",
    "kernelspec": {
      "display_name": "Python 3",
      "name": "python3"
    },
    "language_info": {
      "name": "python"
    },
    "accelerator": "GPU",
    "widgets": {
      "application/vnd.jupyter.widget-state+json": {
        "1dd888a2830042cf838cec0504ac32bb": {
          "model_module": "@jupyter-widgets/controls",
          "model_name": "HBoxModel",
          "model_module_version": "1.5.0",
          "state": {
            "_dom_classes": [],
            "_model_module": "@jupyter-widgets/controls",
            "_model_module_version": "1.5.0",
            "_model_name": "HBoxModel",
            "_view_count": null,
            "_view_module": "@jupyter-widgets/controls",
            "_view_module_version": "1.5.0",
            "_view_name": "HBoxView",
            "box_style": "",
            "children": [
              "IPY_MODEL_22c9aaab5083455cbd90e03d3bc56db1",
              "IPY_MODEL_bc6b29b7dee7464c86df874f670eb1be",
              "IPY_MODEL_7aca8b6733d0434e92d0a37c999b607b"
            ],
            "layout": "IPY_MODEL_2a6b54f8861e4bbfadde33a2ce2d3094"
          }
        },
        "22c9aaab5083455cbd90e03d3bc56db1": {
          "model_module": "@jupyter-widgets/controls",
          "model_name": "HTMLModel",
          "model_module_version": "1.5.0",
          "state": {
            "_dom_classes": [],
            "_model_module": "@jupyter-widgets/controls",
            "_model_module_version": "1.5.0",
            "_model_name": "HTMLModel",
            "_view_count": null,
            "_view_module": "@jupyter-widgets/controls",
            "_view_module_version": "1.5.0",
            "_view_name": "HTMLView",
            "description": "",
            "description_tooltip": null,
            "layout": "IPY_MODEL_3c9a67d6b60147e7b3e37063c1d7256c",
            "placeholder": "​",
            "style": "IPY_MODEL_b1fb9badce074ce09b383ed0507ad0db",
            "value": "Downloading builder script: "
          }
        },
        "bc6b29b7dee7464c86df874f670eb1be": {
          "model_module": "@jupyter-widgets/controls",
          "model_name": "FloatProgressModel",
          "model_module_version": "1.5.0",
          "state": {
            "_dom_classes": [],
            "_model_module": "@jupyter-widgets/controls",
            "_model_module_version": "1.5.0",
            "_model_name": "FloatProgressModel",
            "_view_count": null,
            "_view_module": "@jupyter-widgets/controls",
            "_view_module_version": "1.5.0",
            "_view_name": "ProgressView",
            "bar_style": "success",
            "description": "",
            "description_tooltip": null,
            "layout": "IPY_MODEL_bbdd7bc992d54dd79462e95394301d7f",
            "max": 1652,
            "min": 0,
            "orientation": "horizontal",
            "style": "IPY_MODEL_257409f253ae46a2b225734907a05d46",
            "value": 1652
          }
        },
        "7aca8b6733d0434e92d0a37c999b607b": {
          "model_module": "@jupyter-widgets/controls",
          "model_name": "HTMLModel",
          "model_module_version": "1.5.0",
          "state": {
            "_dom_classes": [],
            "_model_module": "@jupyter-widgets/controls",
            "_model_module_version": "1.5.0",
            "_model_name": "HTMLModel",
            "_view_count": null,
            "_view_module": "@jupyter-widgets/controls",
            "_view_module_version": "1.5.0",
            "_view_name": "HTMLView",
            "description": "",
            "description_tooltip": null,
            "layout": "IPY_MODEL_79453aa8b9cf4ca99271a5a8804af813",
            "placeholder": "​",
            "style": "IPY_MODEL_47d94987073b4df6bf923651a543419e",
            "value": " 4.21k/? [00:00&lt;00:00, 247kB/s]"
          }
        },
        "2a6b54f8861e4bbfadde33a2ce2d3094": {
          "model_module": "@jupyter-widgets/base",
          "model_name": "LayoutModel",
          "model_module_version": "1.2.0",
          "state": {
            "_model_module": "@jupyter-widgets/base",
            "_model_module_version": "1.2.0",
            "_model_name": "LayoutModel",
            "_view_count": null,
            "_view_module": "@jupyter-widgets/base",
            "_view_module_version": "1.2.0",
            "_view_name": "LayoutView",
            "align_content": null,
            "align_items": null,
            "align_self": null,
            "border": null,
            "bottom": null,
            "display": null,
            "flex": null,
            "flex_flow": null,
            "grid_area": null,
            "grid_auto_columns": null,
            "grid_auto_flow": null,
            "grid_auto_rows": null,
            "grid_column": null,
            "grid_gap": null,
            "grid_row": null,
            "grid_template_areas": null,
            "grid_template_columns": null,
            "grid_template_rows": null,
            "height": null,
            "justify_content": null,
            "justify_items": null,
            "left": null,
            "margin": null,
            "max_height": null,
            "max_width": null,
            "min_height": null,
            "min_width": null,
            "object_fit": null,
            "object_position": null,
            "order": null,
            "overflow": null,
            "overflow_x": null,
            "overflow_y": null,
            "padding": null,
            "right": null,
            "top": null,
            "visibility": null,
            "width": null
          }
        },
        "3c9a67d6b60147e7b3e37063c1d7256c": {
          "model_module": "@jupyter-widgets/base",
          "model_name": "LayoutModel",
          "model_module_version": "1.2.0",
          "state": {
            "_model_module": "@jupyter-widgets/base",
            "_model_module_version": "1.2.0",
            "_model_name": "LayoutModel",
            "_view_count": null,
            "_view_module": "@jupyter-widgets/base",
            "_view_module_version": "1.2.0",
            "_view_name": "LayoutView",
            "align_content": null,
            "align_items": null,
            "align_self": null,
            "border": null,
            "bottom": null,
            "display": null,
            "flex": null,
            "flex_flow": null,
            "grid_area": null,
            "grid_auto_columns": null,
            "grid_auto_flow": null,
            "grid_auto_rows": null,
            "grid_column": null,
            "grid_gap": null,
            "grid_row": null,
            "grid_template_areas": null,
            "grid_template_columns": null,
            "grid_template_rows": null,
            "height": null,
            "justify_content": null,
            "justify_items": null,
            "left": null,
            "margin": null,
            "max_height": null,
            "max_width": null,
            "min_height": null,
            "min_width": null,
            "object_fit": null,
            "object_position": null,
            "order": null,
            "overflow": null,
            "overflow_x": null,
            "overflow_y": null,
            "padding": null,
            "right": null,
            "top": null,
            "visibility": null,
            "width": null
          }
        },
        "b1fb9badce074ce09b383ed0507ad0db": {
          "model_module": "@jupyter-widgets/controls",
          "model_name": "DescriptionStyleModel",
          "model_module_version": "1.5.0",
          "state": {
            "_model_module": "@jupyter-widgets/controls",
            "_model_module_version": "1.5.0",
            "_model_name": "DescriptionStyleModel",
            "_view_count": null,
            "_view_module": "@jupyter-widgets/base",
            "_view_module_version": "1.2.0",
            "_view_name": "StyleView",
            "description_width": ""
          }
        },
        "bbdd7bc992d54dd79462e95394301d7f": {
          "model_module": "@jupyter-widgets/base",
          "model_name": "LayoutModel",
          "model_module_version": "1.2.0",
          "state": {
            "_model_module": "@jupyter-widgets/base",
            "_model_module_version": "1.2.0",
            "_model_name": "LayoutModel",
            "_view_count": null,
            "_view_module": "@jupyter-widgets/base",
            "_view_module_version": "1.2.0",
            "_view_name": "LayoutView",
            "align_content": null,
            "align_items": null,
            "align_self": null,
            "border": null,
            "bottom": null,
            "display": null,
            "flex": null,
            "flex_flow": null,
            "grid_area": null,
            "grid_auto_columns": null,
            "grid_auto_flow": null,
            "grid_auto_rows": null,
            "grid_column": null,
            "grid_gap": null,
            "grid_row": null,
            "grid_template_areas": null,
            "grid_template_columns": null,
            "grid_template_rows": null,
            "height": null,
            "justify_content": null,
            "justify_items": null,
            "left": null,
            "margin": null,
            "max_height": null,
            "max_width": null,
            "min_height": null,
            "min_width": null,
            "object_fit": null,
            "object_position": null,
            "order": null,
            "overflow": null,
            "overflow_x": null,
            "overflow_y": null,
            "padding": null,
            "right": null,
            "top": null,
            "visibility": null,
            "width": null
          }
        },
        "257409f253ae46a2b225734907a05d46": {
          "model_module": "@jupyter-widgets/controls",
          "model_name": "ProgressStyleModel",
          "model_module_version": "1.5.0",
          "state": {
            "_model_module": "@jupyter-widgets/controls",
            "_model_module_version": "1.5.0",
            "_model_name": "ProgressStyleModel",
            "_view_count": null,
            "_view_module": "@jupyter-widgets/base",
            "_view_module_version": "1.2.0",
            "_view_name": "StyleView",
            "bar_color": null,
            "description_width": ""
          }
        },
        "79453aa8b9cf4ca99271a5a8804af813": {
          "model_module": "@jupyter-widgets/base",
          "model_name": "LayoutModel",
          "model_module_version": "1.2.0",
          "state": {
            "_model_module": "@jupyter-widgets/base",
            "_model_module_version": "1.2.0",
            "_model_name": "LayoutModel",
            "_view_count": null,
            "_view_module": "@jupyter-widgets/base",
            "_view_module_version": "1.2.0",
            "_view_name": "LayoutView",
            "align_content": null,
            "align_items": null,
            "align_self": null,
            "border": null,
            "bottom": null,
            "display": null,
            "flex": null,
            "flex_flow": null,
            "grid_area": null,
            "grid_auto_columns": null,
            "grid_auto_flow": null,
            "grid_auto_rows": null,
            "grid_column": null,
            "grid_gap": null,
            "grid_row": null,
            "grid_template_areas": null,
            "grid_template_columns": null,
            "grid_template_rows": null,
            "height": null,
            "justify_content": null,
            "justify_items": null,
            "left": null,
            "margin": null,
            "max_height": null,
            "max_width": null,
            "min_height": null,
            "min_width": null,
            "object_fit": null,
            "object_position": null,
            "order": null,
            "overflow": null,
            "overflow_x": null,
            "overflow_y": null,
            "padding": null,
            "right": null,
            "top": null,
            "visibility": null,
            "width": null
          }
        },
        "47d94987073b4df6bf923651a543419e": {
          "model_module": "@jupyter-widgets/controls",
          "model_name": "DescriptionStyleModel",
          "model_module_version": "1.5.0",
          "state": {
            "_model_module": "@jupyter-widgets/controls",
            "_model_module_version": "1.5.0",
            "_model_name": "DescriptionStyleModel",
            "_view_count": null,
            "_view_module": "@jupyter-widgets/base",
            "_view_module_version": "1.2.0",
            "_view_name": "StyleView",
            "description_width": ""
          }
        },
        "58b43093f5e14fc18fdfe6bf90a08007": {
          "model_module": "@jupyter-widgets/controls",
          "model_name": "HBoxModel",
          "model_module_version": "1.5.0",
          "state": {
            "_dom_classes": [],
            "_model_module": "@jupyter-widgets/controls",
            "_model_module_version": "1.5.0",
            "_model_name": "HBoxModel",
            "_view_count": null,
            "_view_module": "@jupyter-widgets/controls",
            "_view_module_version": "1.5.0",
            "_view_name": "HBoxView",
            "box_style": "",
            "children": [
              "IPY_MODEL_e478579e27a741519675ae5c74d0b308",
              "IPY_MODEL_6bf567fcafd04842b87496848f4a0e7a",
              "IPY_MODEL_e88f673798a3411c89ea07a3e1cc67b3"
            ],
            "layout": "IPY_MODEL_b10ffeab61f545cb856b74eaa333423e"
          }
        },
        "e478579e27a741519675ae5c74d0b308": {
          "model_module": "@jupyter-widgets/controls",
          "model_name": "HTMLModel",
          "model_module_version": "1.5.0",
          "state": {
            "_dom_classes": [],
            "_model_module": "@jupyter-widgets/controls",
            "_model_module_version": "1.5.0",
            "_model_name": "HTMLModel",
            "_view_count": null,
            "_view_module": "@jupyter-widgets/controls",
            "_view_module_version": "1.5.0",
            "_view_name": "HTMLView",
            "description": "",
            "description_tooltip": null,
            "layout": "IPY_MODEL_0c0e21c31a9642649f8a13ff12cd3b4c",
            "placeholder": "​",
            "style": "IPY_MODEL_15e4f6dc78474069849fe3da639dfc5e",
            "value": "Downloading builder script: "
          }
        },
        "6bf567fcafd04842b87496848f4a0e7a": {
          "model_module": "@jupyter-widgets/controls",
          "model_name": "FloatProgressModel",
          "model_module_version": "1.5.0",
          "state": {
            "_dom_classes": [],
            "_model_module": "@jupyter-widgets/controls",
            "_model_module_version": "1.5.0",
            "_model_name": "FloatProgressModel",
            "_view_count": null,
            "_view_module": "@jupyter-widgets/controls",
            "_view_module_version": "1.5.0",
            "_view_name": "ProgressView",
            "bar_style": "success",
            "description": "",
            "description_tooltip": null,
            "layout": "IPY_MODEL_b9d4d552a21a4df5bc3b782eb47d5546",
            "max": 2318,
            "min": 0,
            "orientation": "horizontal",
            "style": "IPY_MODEL_05a333056e5241528901745b489919d4",
            "value": 2318
          }
        },
        "e88f673798a3411c89ea07a3e1cc67b3": {
          "model_module": "@jupyter-widgets/controls",
          "model_name": "HTMLModel",
          "model_module_version": "1.5.0",
          "state": {
            "_dom_classes": [],
            "_model_module": "@jupyter-widgets/controls",
            "_model_module_version": "1.5.0",
            "_model_name": "HTMLModel",
            "_view_count": null,
            "_view_module": "@jupyter-widgets/controls",
            "_view_module_version": "1.5.0",
            "_view_name": "HTMLView",
            "description": "",
            "description_tooltip": null,
            "layout": "IPY_MODEL_16baaf4ea1174b6487eea9ec022e82d7",
            "placeholder": "​",
            "style": "IPY_MODEL_195d1a07da0f4a83aaae25f32ff09b88",
            "value": " 6.50k/? [00:00&lt;00:00, 354kB/s]"
          }
        },
        "b10ffeab61f545cb856b74eaa333423e": {
          "model_module": "@jupyter-widgets/base",
          "model_name": "LayoutModel",
          "model_module_version": "1.2.0",
          "state": {
            "_model_module": "@jupyter-widgets/base",
            "_model_module_version": "1.2.0",
            "_model_name": "LayoutModel",
            "_view_count": null,
            "_view_module": "@jupyter-widgets/base",
            "_view_module_version": "1.2.0",
            "_view_name": "LayoutView",
            "align_content": null,
            "align_items": null,
            "align_self": null,
            "border": null,
            "bottom": null,
            "display": null,
            "flex": null,
            "flex_flow": null,
            "grid_area": null,
            "grid_auto_columns": null,
            "grid_auto_flow": null,
            "grid_auto_rows": null,
            "grid_column": null,
            "grid_gap": null,
            "grid_row": null,
            "grid_template_areas": null,
            "grid_template_columns": null,
            "grid_template_rows": null,
            "height": null,
            "justify_content": null,
            "justify_items": null,
            "left": null,
            "margin": null,
            "max_height": null,
            "max_width": null,
            "min_height": null,
            "min_width": null,
            "object_fit": null,
            "object_position": null,
            "order": null,
            "overflow": null,
            "overflow_x": null,
            "overflow_y": null,
            "padding": null,
            "right": null,
            "top": null,
            "visibility": null,
            "width": null
          }
        },
        "0c0e21c31a9642649f8a13ff12cd3b4c": {
          "model_module": "@jupyter-widgets/base",
          "model_name": "LayoutModel",
          "model_module_version": "1.2.0",
          "state": {
            "_model_module": "@jupyter-widgets/base",
            "_model_module_version": "1.2.0",
            "_model_name": "LayoutModel",
            "_view_count": null,
            "_view_module": "@jupyter-widgets/base",
            "_view_module_version": "1.2.0",
            "_view_name": "LayoutView",
            "align_content": null,
            "align_items": null,
            "align_self": null,
            "border": null,
            "bottom": null,
            "display": null,
            "flex": null,
            "flex_flow": null,
            "grid_area": null,
            "grid_auto_columns": null,
            "grid_auto_flow": null,
            "grid_auto_rows": null,
            "grid_column": null,
            "grid_gap": null,
            "grid_row": null,
            "grid_template_areas": null,
            "grid_template_columns": null,
            "grid_template_rows": null,
            "height": null,
            "justify_content": null,
            "justify_items": null,
            "left": null,
            "margin": null,
            "max_height": null,
            "max_width": null,
            "min_height": null,
            "min_width": null,
            "object_fit": null,
            "object_position": null,
            "order": null,
            "overflow": null,
            "overflow_x": null,
            "overflow_y": null,
            "padding": null,
            "right": null,
            "top": null,
            "visibility": null,
            "width": null
          }
        },
        "15e4f6dc78474069849fe3da639dfc5e": {
          "model_module": "@jupyter-widgets/controls",
          "model_name": "DescriptionStyleModel",
          "model_module_version": "1.5.0",
          "state": {
            "_model_module": "@jupyter-widgets/controls",
            "_model_module_version": "1.5.0",
            "_model_name": "DescriptionStyleModel",
            "_view_count": null,
            "_view_module": "@jupyter-widgets/base",
            "_view_module_version": "1.2.0",
            "_view_name": "StyleView",
            "description_width": ""
          }
        },
        "b9d4d552a21a4df5bc3b782eb47d5546": {
          "model_module": "@jupyter-widgets/base",
          "model_name": "LayoutModel",
          "model_module_version": "1.2.0",
          "state": {
            "_model_module": "@jupyter-widgets/base",
            "_model_module_version": "1.2.0",
            "_model_name": "LayoutModel",
            "_view_count": null,
            "_view_module": "@jupyter-widgets/base",
            "_view_module_version": "1.2.0",
            "_view_name": "LayoutView",
            "align_content": null,
            "align_items": null,
            "align_self": null,
            "border": null,
            "bottom": null,
            "display": null,
            "flex": null,
            "flex_flow": null,
            "grid_area": null,
            "grid_auto_columns": null,
            "grid_auto_flow": null,
            "grid_auto_rows": null,
            "grid_column": null,
            "grid_gap": null,
            "grid_row": null,
            "grid_template_areas": null,
            "grid_template_columns": null,
            "grid_template_rows": null,
            "height": null,
            "justify_content": null,
            "justify_items": null,
            "left": null,
            "margin": null,
            "max_height": null,
            "max_width": null,
            "min_height": null,
            "min_width": null,
            "object_fit": null,
            "object_position": null,
            "order": null,
            "overflow": null,
            "overflow_x": null,
            "overflow_y": null,
            "padding": null,
            "right": null,
            "top": null,
            "visibility": null,
            "width": null
          }
        },
        "05a333056e5241528901745b489919d4": {
          "model_module": "@jupyter-widgets/controls",
          "model_name": "ProgressStyleModel",
          "model_module_version": "1.5.0",
          "state": {
            "_model_module": "@jupyter-widgets/controls",
            "_model_module_version": "1.5.0",
            "_model_name": "ProgressStyleModel",
            "_view_count": null,
            "_view_module": "@jupyter-widgets/base",
            "_view_module_version": "1.2.0",
            "_view_name": "StyleView",
            "bar_color": null,
            "description_width": ""
          }
        },
        "16baaf4ea1174b6487eea9ec022e82d7": {
          "model_module": "@jupyter-widgets/base",
          "model_name": "LayoutModel",
          "model_module_version": "1.2.0",
          "state": {
            "_model_module": "@jupyter-widgets/base",
            "_model_module_version": "1.2.0",
            "_model_name": "LayoutModel",
            "_view_count": null,
            "_view_module": "@jupyter-widgets/base",
            "_view_module_version": "1.2.0",
            "_view_name": "LayoutView",
            "align_content": null,
            "align_items": null,
            "align_self": null,
            "border": null,
            "bottom": null,
            "display": null,
            "flex": null,
            "flex_flow": null,
            "grid_area": null,
            "grid_auto_columns": null,
            "grid_auto_flow": null,
            "grid_auto_rows": null,
            "grid_column": null,
            "grid_gap": null,
            "grid_row": null,
            "grid_template_areas": null,
            "grid_template_columns": null,
            "grid_template_rows": null,
            "height": null,
            "justify_content": null,
            "justify_items": null,
            "left": null,
            "margin": null,
            "max_height": null,
            "max_width": null,
            "min_height": null,
            "min_width": null,
            "object_fit": null,
            "object_position": null,
            "order": null,
            "overflow": null,
            "overflow_x": null,
            "overflow_y": null,
            "padding": null,
            "right": null,
            "top": null,
            "visibility": null,
            "width": null
          }
        },
        "195d1a07da0f4a83aaae25f32ff09b88": {
          "model_module": "@jupyter-widgets/controls",
          "model_name": "DescriptionStyleModel",
          "model_module_version": "1.5.0",
          "state": {
            "_model_module": "@jupyter-widgets/controls",
            "_model_module_version": "1.5.0",
            "_model_name": "DescriptionStyleModel",
            "_view_count": null,
            "_view_module": "@jupyter-widgets/base",
            "_view_module_version": "1.2.0",
            "_view_name": "StyleView",
            "description_width": ""
          }
        },
        "4a732a7ea0fa498baec66b7c9a923838": {
          "model_module": "@jupyter-widgets/controls",
          "model_name": "HBoxModel",
          "model_module_version": "1.5.0",
          "state": {
            "_dom_classes": [],
            "_model_module": "@jupyter-widgets/controls",
            "_model_module_version": "1.5.0",
            "_model_name": "HBoxModel",
            "_view_count": null,
            "_view_module": "@jupyter-widgets/controls",
            "_view_module_version": "1.5.0",
            "_view_name": "HBoxView",
            "box_style": "",
            "children": [
              "IPY_MODEL_89e2b18ac8c440329ed3f07464a11138",
              "IPY_MODEL_52a0fb88383846b38b72530a5cb03698",
              "IPY_MODEL_256496ba64b5477ea13ce8f4573a0f1d"
            ],
            "layout": "IPY_MODEL_01b2dfb262284b5d9c14d091abcd07c0"
          }
        },
        "89e2b18ac8c440329ed3f07464a11138": {
          "model_module": "@jupyter-widgets/controls",
          "model_name": "HTMLModel",
          "model_module_version": "1.5.0",
          "state": {
            "_dom_classes": [],
            "_model_module": "@jupyter-widgets/controls",
            "_model_module_version": "1.5.0",
            "_model_name": "HTMLModel",
            "_view_count": null,
            "_view_module": "@jupyter-widgets/controls",
            "_view_module_version": "1.5.0",
            "_view_name": "HTMLView",
            "description": "",
            "description_tooltip": null,
            "layout": "IPY_MODEL_c325e1f5977646bcbb8edbce0793b06f",
            "placeholder": "​",
            "style": "IPY_MODEL_3427df236c5e4d4c96efe2360acb893a",
            "value": "Downloading builder script: "
          }
        },
        "52a0fb88383846b38b72530a5cb03698": {
          "model_module": "@jupyter-widgets/controls",
          "model_name": "FloatProgressModel",
          "model_module_version": "1.5.0",
          "state": {
            "_dom_classes": [],
            "_model_module": "@jupyter-widgets/controls",
            "_model_module_version": "1.5.0",
            "_model_name": "FloatProgressModel",
            "_view_count": null,
            "_view_module": "@jupyter-widgets/controls",
            "_view_module_version": "1.5.0",
            "_view_name": "ProgressView",
            "bar_style": "success",
            "description": "",
            "description_tooltip": null,
            "layout": "IPY_MODEL_e0df76c3d12944e7af4fa16b023167d1",
            "max": 2575,
            "min": 0,
            "orientation": "horizontal",
            "style": "IPY_MODEL_2967b06f2745485dace9592ed818c94c",
            "value": 2575
          }
        },
        "256496ba64b5477ea13ce8f4573a0f1d": {
          "model_module": "@jupyter-widgets/controls",
          "model_name": "HTMLModel",
          "model_module_version": "1.5.0",
          "state": {
            "_dom_classes": [],
            "_model_module": "@jupyter-widgets/controls",
            "_model_module_version": "1.5.0",
            "_model_name": "HTMLModel",
            "_view_count": null,
            "_view_module": "@jupyter-widgets/controls",
            "_view_module_version": "1.5.0",
            "_view_name": "HTMLView",
            "description": "",
            "description_tooltip": null,
            "layout": "IPY_MODEL_94035d4ae04248dc93338adbc5888241",
            "placeholder": "​",
            "style": "IPY_MODEL_3cf00fd1149a41d1813257aa657da9e0",
            "value": " 7.55k/? [00:00&lt;00:00, 428kB/s]"
          }
        },
        "01b2dfb262284b5d9c14d091abcd07c0": {
          "model_module": "@jupyter-widgets/base",
          "model_name": "LayoutModel",
          "model_module_version": "1.2.0",
          "state": {
            "_model_module": "@jupyter-widgets/base",
            "_model_module_version": "1.2.0",
            "_model_name": "LayoutModel",
            "_view_count": null,
            "_view_module": "@jupyter-widgets/base",
            "_view_module_version": "1.2.0",
            "_view_name": "LayoutView",
            "align_content": null,
            "align_items": null,
            "align_self": null,
            "border": null,
            "bottom": null,
            "display": null,
            "flex": null,
            "flex_flow": null,
            "grid_area": null,
            "grid_auto_columns": null,
            "grid_auto_flow": null,
            "grid_auto_rows": null,
            "grid_column": null,
            "grid_gap": null,
            "grid_row": null,
            "grid_template_areas": null,
            "grid_template_columns": null,
            "grid_template_rows": null,
            "height": null,
            "justify_content": null,
            "justify_items": null,
            "left": null,
            "margin": null,
            "max_height": null,
            "max_width": null,
            "min_height": null,
            "min_width": null,
            "object_fit": null,
            "object_position": null,
            "order": null,
            "overflow": null,
            "overflow_x": null,
            "overflow_y": null,
            "padding": null,
            "right": null,
            "top": null,
            "visibility": null,
            "width": null
          }
        },
        "c325e1f5977646bcbb8edbce0793b06f": {
          "model_module": "@jupyter-widgets/base",
          "model_name": "LayoutModel",
          "model_module_version": "1.2.0",
          "state": {
            "_model_module": "@jupyter-widgets/base",
            "_model_module_version": "1.2.0",
            "_model_name": "LayoutModel",
            "_view_count": null,
            "_view_module": "@jupyter-widgets/base",
            "_view_module_version": "1.2.0",
            "_view_name": "LayoutView",
            "align_content": null,
            "align_items": null,
            "align_self": null,
            "border": null,
            "bottom": null,
            "display": null,
            "flex": null,
            "flex_flow": null,
            "grid_area": null,
            "grid_auto_columns": null,
            "grid_auto_flow": null,
            "grid_auto_rows": null,
            "grid_column": null,
            "grid_gap": null,
            "grid_row": null,
            "grid_template_areas": null,
            "grid_template_columns": null,
            "grid_template_rows": null,
            "height": null,
            "justify_content": null,
            "justify_items": null,
            "left": null,
            "margin": null,
            "max_height": null,
            "max_width": null,
            "min_height": null,
            "min_width": null,
            "object_fit": null,
            "object_position": null,
            "order": null,
            "overflow": null,
            "overflow_x": null,
            "overflow_y": null,
            "padding": null,
            "right": null,
            "top": null,
            "visibility": null,
            "width": null
          }
        },
        "3427df236c5e4d4c96efe2360acb893a": {
          "model_module": "@jupyter-widgets/controls",
          "model_name": "DescriptionStyleModel",
          "model_module_version": "1.5.0",
          "state": {
            "_model_module": "@jupyter-widgets/controls",
            "_model_module_version": "1.5.0",
            "_model_name": "DescriptionStyleModel",
            "_view_count": null,
            "_view_module": "@jupyter-widgets/base",
            "_view_module_version": "1.2.0",
            "_view_name": "StyleView",
            "description_width": ""
          }
        },
        "e0df76c3d12944e7af4fa16b023167d1": {
          "model_module": "@jupyter-widgets/base",
          "model_name": "LayoutModel",
          "model_module_version": "1.2.0",
          "state": {
            "_model_module": "@jupyter-widgets/base",
            "_model_module_version": "1.2.0",
            "_model_name": "LayoutModel",
            "_view_count": null,
            "_view_module": "@jupyter-widgets/base",
            "_view_module_version": "1.2.0",
            "_view_name": "LayoutView",
            "align_content": null,
            "align_items": null,
            "align_self": null,
            "border": null,
            "bottom": null,
            "display": null,
            "flex": null,
            "flex_flow": null,
            "grid_area": null,
            "grid_auto_columns": null,
            "grid_auto_flow": null,
            "grid_auto_rows": null,
            "grid_column": null,
            "grid_gap": null,
            "grid_row": null,
            "grid_template_areas": null,
            "grid_template_columns": null,
            "grid_template_rows": null,
            "height": null,
            "justify_content": null,
            "justify_items": null,
            "left": null,
            "margin": null,
            "max_height": null,
            "max_width": null,
            "min_height": null,
            "min_width": null,
            "object_fit": null,
            "object_position": null,
            "order": null,
            "overflow": null,
            "overflow_x": null,
            "overflow_y": null,
            "padding": null,
            "right": null,
            "top": null,
            "visibility": null,
            "width": null
          }
        },
        "2967b06f2745485dace9592ed818c94c": {
          "model_module": "@jupyter-widgets/controls",
          "model_name": "ProgressStyleModel",
          "model_module_version": "1.5.0",
          "state": {
            "_model_module": "@jupyter-widgets/controls",
            "_model_module_version": "1.5.0",
            "_model_name": "ProgressStyleModel",
            "_view_count": null,
            "_view_module": "@jupyter-widgets/base",
            "_view_module_version": "1.2.0",
            "_view_name": "StyleView",
            "bar_color": null,
            "description_width": ""
          }
        },
        "94035d4ae04248dc93338adbc5888241": {
          "model_module": "@jupyter-widgets/base",
          "model_name": "LayoutModel",
          "model_module_version": "1.2.0",
          "state": {
            "_model_module": "@jupyter-widgets/base",
            "_model_module_version": "1.2.0",
            "_model_name": "LayoutModel",
            "_view_count": null,
            "_view_module": "@jupyter-widgets/base",
            "_view_module_version": "1.2.0",
            "_view_name": "LayoutView",
            "align_content": null,
            "align_items": null,
            "align_self": null,
            "border": null,
            "bottom": null,
            "display": null,
            "flex": null,
            "flex_flow": null,
            "grid_area": null,
            "grid_auto_columns": null,
            "grid_auto_flow": null,
            "grid_auto_rows": null,
            "grid_column": null,
            "grid_gap": null,
            "grid_row": null,
            "grid_template_areas": null,
            "grid_template_columns": null,
            "grid_template_rows": null,
            "height": null,
            "justify_content": null,
            "justify_items": null,
            "left": null,
            "margin": null,
            "max_height": null,
            "max_width": null,
            "min_height": null,
            "min_width": null,
            "object_fit": null,
            "object_position": null,
            "order": null,
            "overflow": null,
            "overflow_x": null,
            "overflow_y": null,
            "padding": null,
            "right": null,
            "top": null,
            "visibility": null,
            "width": null
          }
        },
        "3cf00fd1149a41d1813257aa657da9e0": {
          "model_module": "@jupyter-widgets/controls",
          "model_name": "DescriptionStyleModel",
          "model_module_version": "1.5.0",
          "state": {
            "_model_module": "@jupyter-widgets/controls",
            "_model_module_version": "1.5.0",
            "_model_name": "DescriptionStyleModel",
            "_view_count": null,
            "_view_module": "@jupyter-widgets/base",
            "_view_module_version": "1.2.0",
            "_view_name": "StyleView",
            "description_width": ""
          }
        },
        "dde4317568574acdbbcb669badde8de9": {
          "model_module": "@jupyter-widgets/controls",
          "model_name": "HBoxModel",
          "model_module_version": "1.5.0",
          "state": {
            "_dom_classes": [],
            "_model_module": "@jupyter-widgets/controls",
            "_model_module_version": "1.5.0",
            "_model_name": "HBoxModel",
            "_view_count": null,
            "_view_module": "@jupyter-widgets/controls",
            "_view_module_version": "1.5.0",
            "_view_name": "HBoxView",
            "box_style": "",
            "children": [
              "IPY_MODEL_772bd2751c6948ff8f9da9d0b703ed42",
              "IPY_MODEL_672485f33fb744e0bb240cee55bad2f8",
              "IPY_MODEL_503aef18ed87458082afa16268a3d7d2"
            ],
            "layout": "IPY_MODEL_e39f7667476441f9a0959a01991fac3e"
          }
        },
        "772bd2751c6948ff8f9da9d0b703ed42": {
          "model_module": "@jupyter-widgets/controls",
          "model_name": "HTMLModel",
          "model_module_version": "1.5.0",
          "state": {
            "_dom_classes": [],
            "_model_module": "@jupyter-widgets/controls",
            "_model_module_version": "1.5.0",
            "_model_name": "HTMLModel",
            "_view_count": null,
            "_view_module": "@jupyter-widgets/controls",
            "_view_module_version": "1.5.0",
            "_view_name": "HTMLView",
            "description": "",
            "description_tooltip": null,
            "layout": "IPY_MODEL_025dc48b922342e7af4cf72406e75bc1",
            "placeholder": "​",
            "style": "IPY_MODEL_23c8aca2791040f0aa6ffbe7b2abe9d0",
            "value": "Downloading builder script: "
          }
        },
        "672485f33fb744e0bb240cee55bad2f8": {
          "model_module": "@jupyter-widgets/controls",
          "model_name": "FloatProgressModel",
          "model_module_version": "1.5.0",
          "state": {
            "_dom_classes": [],
            "_model_module": "@jupyter-widgets/controls",
            "_model_module_version": "1.5.0",
            "_model_name": "FloatProgressModel",
            "_view_count": null,
            "_view_module": "@jupyter-widgets/controls",
            "_view_module_version": "1.5.0",
            "_view_name": "ProgressView",
            "bar_style": "success",
            "description": "",
            "description_tooltip": null,
            "layout": "IPY_MODEL_605f6be300fe4f4aa31a69ad47f4e96c",
            "max": 2524,
            "min": 0,
            "orientation": "horizontal",
            "style": "IPY_MODEL_46fb581961a241ee8e64b949eaf677c1",
            "value": 2524
          }
        },
        "503aef18ed87458082afa16268a3d7d2": {
          "model_module": "@jupyter-widgets/controls",
          "model_name": "HTMLModel",
          "model_module_version": "1.5.0",
          "state": {
            "_dom_classes": [],
            "_model_module": "@jupyter-widgets/controls",
            "_model_module_version": "1.5.0",
            "_model_name": "HTMLModel",
            "_view_count": null,
            "_view_module": "@jupyter-widgets/controls",
            "_view_module_version": "1.5.0",
            "_view_name": "HTMLView",
            "description": "",
            "description_tooltip": null,
            "layout": "IPY_MODEL_45ff1d5efc834db6b654424254502cfb",
            "placeholder": "​",
            "style": "IPY_MODEL_2cef82cff4c34c758a086abbe9f28eaf",
            "value": " 7.38k/? [00:00&lt;00:00, 358kB/s]"
          }
        },
        "e39f7667476441f9a0959a01991fac3e": {
          "model_module": "@jupyter-widgets/base",
          "model_name": "LayoutModel",
          "model_module_version": "1.2.0",
          "state": {
            "_model_module": "@jupyter-widgets/base",
            "_model_module_version": "1.2.0",
            "_model_name": "LayoutModel",
            "_view_count": null,
            "_view_module": "@jupyter-widgets/base",
            "_view_module_version": "1.2.0",
            "_view_name": "LayoutView",
            "align_content": null,
            "align_items": null,
            "align_self": null,
            "border": null,
            "bottom": null,
            "display": null,
            "flex": null,
            "flex_flow": null,
            "grid_area": null,
            "grid_auto_columns": null,
            "grid_auto_flow": null,
            "grid_auto_rows": null,
            "grid_column": null,
            "grid_gap": null,
            "grid_row": null,
            "grid_template_areas": null,
            "grid_template_columns": null,
            "grid_template_rows": null,
            "height": null,
            "justify_content": null,
            "justify_items": null,
            "left": null,
            "margin": null,
            "max_height": null,
            "max_width": null,
            "min_height": null,
            "min_width": null,
            "object_fit": null,
            "object_position": null,
            "order": null,
            "overflow": null,
            "overflow_x": null,
            "overflow_y": null,
            "padding": null,
            "right": null,
            "top": null,
            "visibility": null,
            "width": null
          }
        },
        "025dc48b922342e7af4cf72406e75bc1": {
          "model_module": "@jupyter-widgets/base",
          "model_name": "LayoutModel",
          "model_module_version": "1.2.0",
          "state": {
            "_model_module": "@jupyter-widgets/base",
            "_model_module_version": "1.2.0",
            "_model_name": "LayoutModel",
            "_view_count": null,
            "_view_module": "@jupyter-widgets/base",
            "_view_module_version": "1.2.0",
            "_view_name": "LayoutView",
            "align_content": null,
            "align_items": null,
            "align_self": null,
            "border": null,
            "bottom": null,
            "display": null,
            "flex": null,
            "flex_flow": null,
            "grid_area": null,
            "grid_auto_columns": null,
            "grid_auto_flow": null,
            "grid_auto_rows": null,
            "grid_column": null,
            "grid_gap": null,
            "grid_row": null,
            "grid_template_areas": null,
            "grid_template_columns": null,
            "grid_template_rows": null,
            "height": null,
            "justify_content": null,
            "justify_items": null,
            "left": null,
            "margin": null,
            "max_height": null,
            "max_width": null,
            "min_height": null,
            "min_width": null,
            "object_fit": null,
            "object_position": null,
            "order": null,
            "overflow": null,
            "overflow_x": null,
            "overflow_y": null,
            "padding": null,
            "right": null,
            "top": null,
            "visibility": null,
            "width": null
          }
        },
        "23c8aca2791040f0aa6ffbe7b2abe9d0": {
          "model_module": "@jupyter-widgets/controls",
          "model_name": "DescriptionStyleModel",
          "model_module_version": "1.5.0",
          "state": {
            "_model_module": "@jupyter-widgets/controls",
            "_model_module_version": "1.5.0",
            "_model_name": "DescriptionStyleModel",
            "_view_count": null,
            "_view_module": "@jupyter-widgets/base",
            "_view_module_version": "1.2.0",
            "_view_name": "StyleView",
            "description_width": ""
          }
        },
        "605f6be300fe4f4aa31a69ad47f4e96c": {
          "model_module": "@jupyter-widgets/base",
          "model_name": "LayoutModel",
          "model_module_version": "1.2.0",
          "state": {
            "_model_module": "@jupyter-widgets/base",
            "_model_module_version": "1.2.0",
            "_model_name": "LayoutModel",
            "_view_count": null,
            "_view_module": "@jupyter-widgets/base",
            "_view_module_version": "1.2.0",
            "_view_name": "LayoutView",
            "align_content": null,
            "align_items": null,
            "align_self": null,
            "border": null,
            "bottom": null,
            "display": null,
            "flex": null,
            "flex_flow": null,
            "grid_area": null,
            "grid_auto_columns": null,
            "grid_auto_flow": null,
            "grid_auto_rows": null,
            "grid_column": null,
            "grid_gap": null,
            "grid_row": null,
            "grid_template_areas": null,
            "grid_template_columns": null,
            "grid_template_rows": null,
            "height": null,
            "justify_content": null,
            "justify_items": null,
            "left": null,
            "margin": null,
            "max_height": null,
            "max_width": null,
            "min_height": null,
            "min_width": null,
            "object_fit": null,
            "object_position": null,
            "order": null,
            "overflow": null,
            "overflow_x": null,
            "overflow_y": null,
            "padding": null,
            "right": null,
            "top": null,
            "visibility": null,
            "width": null
          }
        },
        "46fb581961a241ee8e64b949eaf677c1": {
          "model_module": "@jupyter-widgets/controls",
          "model_name": "ProgressStyleModel",
          "model_module_version": "1.5.0",
          "state": {
            "_model_module": "@jupyter-widgets/controls",
            "_model_module_version": "1.5.0",
            "_model_name": "ProgressStyleModel",
            "_view_count": null,
            "_view_module": "@jupyter-widgets/base",
            "_view_module_version": "1.2.0",
            "_view_name": "StyleView",
            "bar_color": null,
            "description_width": ""
          }
        },
        "45ff1d5efc834db6b654424254502cfb": {
          "model_module": "@jupyter-widgets/base",
          "model_name": "LayoutModel",
          "model_module_version": "1.2.0",
          "state": {
            "_model_module": "@jupyter-widgets/base",
            "_model_module_version": "1.2.0",
            "_model_name": "LayoutModel",
            "_view_count": null,
            "_view_module": "@jupyter-widgets/base",
            "_view_module_version": "1.2.0",
            "_view_name": "LayoutView",
            "align_content": null,
            "align_items": null,
            "align_self": null,
            "border": null,
            "bottom": null,
            "display": null,
            "flex": null,
            "flex_flow": null,
            "grid_area": null,
            "grid_auto_columns": null,
            "grid_auto_flow": null,
            "grid_auto_rows": null,
            "grid_column": null,
            "grid_gap": null,
            "grid_row": null,
            "grid_template_areas": null,
            "grid_template_columns": null,
            "grid_template_rows": null,
            "height": null,
            "justify_content": null,
            "justify_items": null,
            "left": null,
            "margin": null,
            "max_height": null,
            "max_width": null,
            "min_height": null,
            "min_width": null,
            "object_fit": null,
            "object_position": null,
            "order": null,
            "overflow": null,
            "overflow_x": null,
            "overflow_y": null,
            "padding": null,
            "right": null,
            "top": null,
            "visibility": null,
            "width": null
          }
        },
        "2cef82cff4c34c758a086abbe9f28eaf": {
          "model_module": "@jupyter-widgets/controls",
          "model_name": "DescriptionStyleModel",
          "model_module_version": "1.5.0",
          "state": {
            "_model_module": "@jupyter-widgets/controls",
            "_model_module_version": "1.5.0",
            "_model_name": "DescriptionStyleModel",
            "_view_count": null,
            "_view_module": "@jupyter-widgets/base",
            "_view_module_version": "1.2.0",
            "_view_name": "StyleView",
            "description_width": ""
          }
        }
      }
    }
  },
  "nbformat": 4,
  "nbformat_minor": 0
}