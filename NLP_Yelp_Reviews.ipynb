{
  "nbformat": 4,
  "nbformat_minor": 0,
  "metadata": {
    "colab": {
      "provenance": [],
      "mount_file_id": "1bXZyjnI1ZPuMwscK1hMDdaFlOyYMF4YJ",
      "authorship_tag": "ABX9TyMbL9GhaL83PBzAiR/N12WE",
      "include_colab_link": true
    },
    "kernelspec": {
      "name": "python3",
      "display_name": "Python 3"
    },
    "language_info": {
      "name": "python"
    },
    "accelerator": "GPU",
    "gpuClass": "standard",
    "widgets": {
      "application/vnd.jupyter.widget-state+json": {
        "68fea35366354e2b858e65f6b4726a03": {
          "model_module": "@jupyter-widgets/controls",
          "model_name": "HBoxModel",
          "model_module_version": "2.0.0",
          "state": {
            "_dom_classes": [],
            "_model_module": "@jupyter-widgets/controls",
            "_model_module_version": "2.0.0",
            "_model_name": "HBoxModel",
            "_view_count": null,
            "_view_module": "@jupyter-widgets/controls",
            "_view_module_version": "2.0.0",
            "_view_name": "HBoxView",
            "box_style": "",
            "children": [
              "IPY_MODEL_0b4786f9c5874d3589736a3066285c09",
              "IPY_MODEL_51b01b532e3d49969399e158200e4e2a",
              "IPY_MODEL_a4c779813b7a41f3bdd142fae47ab55d"
            ],
            "layout": "IPY_MODEL_fff2ef3b64694c9db4b8077d25098623",
            "tabbable": null,
            "tooltip": null
          }
        },
        "0b4786f9c5874d3589736a3066285c09": {
          "model_module": "@jupyter-widgets/controls",
          "model_name": "HTMLModel",
          "model_module_version": "2.0.0",
          "state": {
            "_dom_classes": [],
            "_model_module": "@jupyter-widgets/controls",
            "_model_module_version": "2.0.0",
            "_model_name": "HTMLModel",
            "_view_count": null,
            "_view_module": "@jupyter-widgets/controls",
            "_view_module_version": "2.0.0",
            "_view_name": "HTMLView",
            "description": "",
            "description_allow_html": false,
            "layout": "IPY_MODEL_2e495a527e8e42e585248a6c605684ad",
            "placeholder": "​",
            "style": "IPY_MODEL_35763d078ae5439e9185eea683b1a72a",
            "tabbable": null,
            "tooltip": null,
            "value": "100%"
          }
        },
        "51b01b532e3d49969399e158200e4e2a": {
          "model_module": "@jupyter-widgets/controls",
          "model_name": "FloatProgressModel",
          "model_module_version": "2.0.0",
          "state": {
            "_dom_classes": [],
            "_model_module": "@jupyter-widgets/controls",
            "_model_module_version": "2.0.0",
            "_model_name": "FloatProgressModel",
            "_view_count": null,
            "_view_module": "@jupyter-widgets/controls",
            "_view_module_version": "2.0.0",
            "_view_name": "ProgressView",
            "bar_style": "success",
            "description": "",
            "description_allow_html": false,
            "layout": "IPY_MODEL_00c58555bf484515b6a7a5c364dc0af4",
            "max": 1,
            "min": 0,
            "orientation": "horizontal",
            "style": "IPY_MODEL_a29e052379954c6ba4b8cad1e0a9bf2a",
            "tabbable": null,
            "tooltip": null,
            "value": 1
          }
        },
        "a4c779813b7a41f3bdd142fae47ab55d": {
          "model_module": "@jupyter-widgets/controls",
          "model_name": "HTMLModel",
          "model_module_version": "2.0.0",
          "state": {
            "_dom_classes": [],
            "_model_module": "@jupyter-widgets/controls",
            "_model_module_version": "2.0.0",
            "_model_name": "HTMLModel",
            "_view_count": null,
            "_view_module": "@jupyter-widgets/controls",
            "_view_module_version": "2.0.0",
            "_view_name": "HTMLView",
            "description": "",
            "description_allow_html": false,
            "layout": "IPY_MODEL_6d4c572f6f7f46828252f878dde6aa84",
            "placeholder": "​",
            "style": "IPY_MODEL_1999117b18ce4df09095caf8742938b7",
            "tabbable": null,
            "tooltip": null,
            "value": " 1/1 [00:00&lt;00:00, 52.95it/s]"
          }
        },
        "fff2ef3b64694c9db4b8077d25098623": {
          "model_module": "@jupyter-widgets/base",
          "model_name": "LayoutModel",
          "model_module_version": "2.0.0",
          "state": {
            "_model_module": "@jupyter-widgets/base",
            "_model_module_version": "2.0.0",
            "_model_name": "LayoutModel",
            "_view_count": null,
            "_view_module": "@jupyter-widgets/base",
            "_view_module_version": "2.0.0",
            "_view_name": "LayoutView",
            "align_content": null,
            "align_items": null,
            "align_self": null,
            "border_bottom": null,
            "border_left": null,
            "border_right": null,
            "border_top": null,
            "bottom": null,
            "display": null,
            "flex": null,
            "flex_flow": null,
            "grid_area": null,
            "grid_auto_columns": null,
            "grid_auto_flow": null,
            "grid_auto_rows": null,
            "grid_column": null,
            "grid_gap": null,
            "grid_row": null,
            "grid_template_areas": null,
            "grid_template_columns": null,
            "grid_template_rows": null,
            "height": null,
            "justify_content": null,
            "justify_items": null,
            "left": null,
            "margin": null,
            "max_height": null,
            "max_width": null,
            "min_height": null,
            "min_width": null,
            "object_fit": null,
            "object_position": null,
            "order": null,
            "overflow": null,
            "padding": null,
            "right": null,
            "top": null,
            "visibility": null,
            "width": null
          }
        },
        "2e495a527e8e42e585248a6c605684ad": {
          "model_module": "@jupyter-widgets/base",
          "model_name": "LayoutModel",
          "model_module_version": "2.0.0",
          "state": {
            "_model_module": "@jupyter-widgets/base",
            "_model_module_version": "2.0.0",
            "_model_name": "LayoutModel",
            "_view_count": null,
            "_view_module": "@jupyter-widgets/base",
            "_view_module_version": "2.0.0",
            "_view_name": "LayoutView",
            "align_content": null,
            "align_items": null,
            "align_self": null,
            "border_bottom": null,
            "border_left": null,
            "border_right": null,
            "border_top": null,
            "bottom": null,
            "display": null,
            "flex": null,
            "flex_flow": null,
            "grid_area": null,
            "grid_auto_columns": null,
            "grid_auto_flow": null,
            "grid_auto_rows": null,
            "grid_column": null,
            "grid_gap": null,
            "grid_row": null,
            "grid_template_areas": null,
            "grid_template_columns": null,
            "grid_template_rows": null,
            "height": null,
            "justify_content": null,
            "justify_items": null,
            "left": null,
            "margin": null,
            "max_height": null,
            "max_width": null,
            "min_height": null,
            "min_width": null,
            "object_fit": null,
            "object_position": null,
            "order": null,
            "overflow": null,
            "padding": null,
            "right": null,
            "top": null,
            "visibility": null,
            "width": null
          }
        },
        "35763d078ae5439e9185eea683b1a72a": {
          "model_module": "@jupyter-widgets/controls",
          "model_name": "HTMLStyleModel",
          "model_module_version": "2.0.0",
          "state": {
            "_model_module": "@jupyter-widgets/controls",
            "_model_module_version": "2.0.0",
            "_model_name": "HTMLStyleModel",
            "_view_count": null,
            "_view_module": "@jupyter-widgets/base",
            "_view_module_version": "2.0.0",
            "_view_name": "StyleView",
            "background": null,
            "description_width": "",
            "font_size": null,
            "text_color": null
          }
        },
        "00c58555bf484515b6a7a5c364dc0af4": {
          "model_module": "@jupyter-widgets/base",
          "model_name": "LayoutModel",
          "model_module_version": "2.0.0",
          "state": {
            "_model_module": "@jupyter-widgets/base",
            "_model_module_version": "2.0.0",
            "_model_name": "LayoutModel",
            "_view_count": null,
            "_view_module": "@jupyter-widgets/base",
            "_view_module_version": "2.0.0",
            "_view_name": "LayoutView",
            "align_content": null,
            "align_items": null,
            "align_self": null,
            "border_bottom": null,
            "border_left": null,
            "border_right": null,
            "border_top": null,
            "bottom": null,
            "display": null,
            "flex": null,
            "flex_flow": null,
            "grid_area": null,
            "grid_auto_columns": null,
            "grid_auto_flow": null,
            "grid_auto_rows": null,
            "grid_column": null,
            "grid_gap": null,
            "grid_row": null,
            "grid_template_areas": null,
            "grid_template_columns": null,
            "grid_template_rows": null,
            "height": null,
            "justify_content": null,
            "justify_items": null,
            "left": null,
            "margin": null,
            "max_height": null,
            "max_width": null,
            "min_height": null,
            "min_width": null,
            "object_fit": null,
            "object_position": null,
            "order": null,
            "overflow": null,
            "padding": null,
            "right": null,
            "top": null,
            "visibility": null,
            "width": null
          }
        },
        "a29e052379954c6ba4b8cad1e0a9bf2a": {
          "model_module": "@jupyter-widgets/controls",
          "model_name": "ProgressStyleModel",
          "model_module_version": "2.0.0",
          "state": {
            "_model_module": "@jupyter-widgets/controls",
            "_model_module_version": "2.0.0",
            "_model_name": "ProgressStyleModel",
            "_view_count": null,
            "_view_module": "@jupyter-widgets/base",
            "_view_module_version": "2.0.0",
            "_view_name": "StyleView",
            "bar_color": null,
            "description_width": ""
          }
        },
        "6d4c572f6f7f46828252f878dde6aa84": {
          "model_module": "@jupyter-widgets/base",
          "model_name": "LayoutModel",
          "model_module_version": "2.0.0",
          "state": {
            "_model_module": "@jupyter-widgets/base",
            "_model_module_version": "2.0.0",
            "_model_name": "LayoutModel",
            "_view_count": null,
            "_view_module": "@jupyter-widgets/base",
            "_view_module_version": "2.0.0",
            "_view_name": "LayoutView",
            "align_content": null,
            "align_items": null,
            "align_self": null,
            "border_bottom": null,
            "border_left": null,
            "border_right": null,
            "border_top": null,
            "bottom": null,
            "display": null,
            "flex": null,
            "flex_flow": null,
            "grid_area": null,
            "grid_auto_columns": null,
            "grid_auto_flow": null,
            "grid_auto_rows": null,
            "grid_column": null,
            "grid_gap": null,
            "grid_row": null,
            "grid_template_areas": null,
            "grid_template_columns": null,
            "grid_template_rows": null,
            "height": null,
            "justify_content": null,
            "justify_items": null,
            "left": null,
            "margin": null,
            "max_height": null,
            "max_width": null,
            "min_height": null,
            "min_width": null,
            "object_fit": null,
            "object_position": null,
            "order": null,
            "overflow": null,
            "padding": null,
            "right": null,
            "top": null,
            "visibility": null,
            "width": null
          }
        },
        "1999117b18ce4df09095caf8742938b7": {
          "model_module": "@jupyter-widgets/controls",
          "model_name": "HTMLStyleModel",
          "model_module_version": "2.0.0",
          "state": {
            "_model_module": "@jupyter-widgets/controls",
            "_model_module_version": "2.0.0",
            "_model_name": "HTMLStyleModel",
            "_view_count": null,
            "_view_module": "@jupyter-widgets/base",
            "_view_module_version": "2.0.0",
            "_view_name": "StyleView",
            "background": null,
            "description_width": "",
            "font_size": null,
            "text_color": null
          }
        },
        "fd181fe6a89b4f9b9fd78e9846fdb67d": {
          "model_module": "@jupyter-widgets/controls",
          "model_name": "HBoxModel",
          "model_module_version": "2.0.0",
          "state": {
            "_dom_classes": [],
            "_model_module": "@jupyter-widgets/controls",
            "_model_module_version": "2.0.0",
            "_model_name": "HBoxModel",
            "_view_count": null,
            "_view_module": "@jupyter-widgets/controls",
            "_view_module_version": "2.0.0",
            "_view_name": "HBoxView",
            "box_style": "",
            "children": [
              "IPY_MODEL_f90c0333b4bc461fbe6c1f8d2868b6e8",
              "IPY_MODEL_b104f8faa5af46a9b65e5e0f8dddea11",
              "IPY_MODEL_f11cea6d193048869416fa363905475f"
            ],
            "layout": "IPY_MODEL_927cc7fda563434b90d417194fe37c6c",
            "tabbable": null,
            "tooltip": null
          }
        },
        "f90c0333b4bc461fbe6c1f8d2868b6e8": {
          "model_module": "@jupyter-widgets/controls",
          "model_name": "HTMLModel",
          "model_module_version": "2.0.0",
          "state": {
            "_dom_classes": [],
            "_model_module": "@jupyter-widgets/controls",
            "_model_module_version": "2.0.0",
            "_model_name": "HTMLModel",
            "_view_count": null,
            "_view_module": "@jupyter-widgets/controls",
            "_view_module_version": "2.0.0",
            "_view_name": "HTMLView",
            "description": "",
            "description_allow_html": false,
            "layout": "IPY_MODEL_9e330aa34b99479fab6b47fc06131c01",
            "placeholder": "​",
            "style": "IPY_MODEL_43ba8ff097c94acdbb0de729f6006479",
            "tabbable": null,
            "tooltip": null,
            "value": "100%"
          }
        },
        "b104f8faa5af46a9b65e5e0f8dddea11": {
          "model_module": "@jupyter-widgets/controls",
          "model_name": "FloatProgressModel",
          "model_module_version": "2.0.0",
          "state": {
            "_dom_classes": [],
            "_model_module": "@jupyter-widgets/controls",
            "_model_module_version": "2.0.0",
            "_model_name": "FloatProgressModel",
            "_view_count": null,
            "_view_module": "@jupyter-widgets/controls",
            "_view_module_version": "2.0.0",
            "_view_name": "ProgressView",
            "bar_style": "success",
            "description": "",
            "description_allow_html": false,
            "layout": "IPY_MODEL_d2c0d07cdbd243728224b64596f15ee3",
            "max": 1,
            "min": 0,
            "orientation": "horizontal",
            "style": "IPY_MODEL_d1f2ce83efec46a0b5ceb555cf39c179",
            "tabbable": null,
            "tooltip": null,
            "value": 1
          }
        },
        "f11cea6d193048869416fa363905475f": {
          "model_module": "@jupyter-widgets/controls",
          "model_name": "HTMLModel",
          "model_module_version": "2.0.0",
          "state": {
            "_dom_classes": [],
            "_model_module": "@jupyter-widgets/controls",
            "_model_module_version": "2.0.0",
            "_model_name": "HTMLModel",
            "_view_count": null,
            "_view_module": "@jupyter-widgets/controls",
            "_view_module_version": "2.0.0",
            "_view_name": "HTMLView",
            "description": "",
            "description_allow_html": false,
            "layout": "IPY_MODEL_50525f3c47fc42988d49ddfb8cad088a",
            "placeholder": "​",
            "style": "IPY_MODEL_9438ac4d3fa743ef877bd8ebfe955d3d",
            "tabbable": null,
            "tooltip": null,
            "value": " 1/1 [00:00&lt;00:00, 50.99it/s]"
          }
        },
        "927cc7fda563434b90d417194fe37c6c": {
          "model_module": "@jupyter-widgets/base",
          "model_name": "LayoutModel",
          "model_module_version": "2.0.0",
          "state": {
            "_model_module": "@jupyter-widgets/base",
            "_model_module_version": "2.0.0",
            "_model_name": "LayoutModel",
            "_view_count": null,
            "_view_module": "@jupyter-widgets/base",
            "_view_module_version": "2.0.0",
            "_view_name": "LayoutView",
            "align_content": null,
            "align_items": null,
            "align_self": null,
            "border_bottom": null,
            "border_left": null,
            "border_right": null,
            "border_top": null,
            "bottom": null,
            "display": null,
            "flex": null,
            "flex_flow": null,
            "grid_area": null,
            "grid_auto_columns": null,
            "grid_auto_flow": null,
            "grid_auto_rows": null,
            "grid_column": null,
            "grid_gap": null,
            "grid_row": null,
            "grid_template_areas": null,
            "grid_template_columns": null,
            "grid_template_rows": null,
            "height": null,
            "justify_content": null,
            "justify_items": null,
            "left": null,
            "margin": null,
            "max_height": null,
            "max_width": null,
            "min_height": null,
            "min_width": null,
            "object_fit": null,
            "object_position": null,
            "order": null,
            "overflow": null,
            "padding": null,
            "right": null,
            "top": null,
            "visibility": null,
            "width": null
          }
        },
        "9e330aa34b99479fab6b47fc06131c01": {
          "model_module": "@jupyter-widgets/base",
          "model_name": "LayoutModel",
          "model_module_version": "2.0.0",
          "state": {
            "_model_module": "@jupyter-widgets/base",
            "_model_module_version": "2.0.0",
            "_model_name": "LayoutModel",
            "_view_count": null,
            "_view_module": "@jupyter-widgets/base",
            "_view_module_version": "2.0.0",
            "_view_name": "LayoutView",
            "align_content": null,
            "align_items": null,
            "align_self": null,
            "border_bottom": null,
            "border_left": null,
            "border_right": null,
            "border_top": null,
            "bottom": null,
            "display": null,
            "flex": null,
            "flex_flow": null,
            "grid_area": null,
            "grid_auto_columns": null,
            "grid_auto_flow": null,
            "grid_auto_rows": null,
            "grid_column": null,
            "grid_gap": null,
            "grid_row": null,
            "grid_template_areas": null,
            "grid_template_columns": null,
            "grid_template_rows": null,
            "height": null,
            "justify_content": null,
            "justify_items": null,
            "left": null,
            "margin": null,
            "max_height": null,
            "max_width": null,
            "min_height": null,
            "min_width": null,
            "object_fit": null,
            "object_position": null,
            "order": null,
            "overflow": null,
            "padding": null,
            "right": null,
            "top": null,
            "visibility": null,
            "width": null
          }
        },
        "43ba8ff097c94acdbb0de729f6006479": {
          "model_module": "@jupyter-widgets/controls",
          "model_name": "HTMLStyleModel",
          "model_module_version": "2.0.0",
          "state": {
            "_model_module": "@jupyter-widgets/controls",
            "_model_module_version": "2.0.0",
            "_model_name": "HTMLStyleModel",
            "_view_count": null,
            "_view_module": "@jupyter-widgets/base",
            "_view_module_version": "2.0.0",
            "_view_name": "StyleView",
            "background": null,
            "description_width": "",
            "font_size": null,
            "text_color": null
          }
        },
        "d2c0d07cdbd243728224b64596f15ee3": {
          "model_module": "@jupyter-widgets/base",
          "model_name": "LayoutModel",
          "model_module_version": "2.0.0",
          "state": {
            "_model_module": "@jupyter-widgets/base",
            "_model_module_version": "2.0.0",
            "_model_name": "LayoutModel",
            "_view_count": null,
            "_view_module": "@jupyter-widgets/base",
            "_view_module_version": "2.0.0",
            "_view_name": "LayoutView",
            "align_content": null,
            "align_items": null,
            "align_self": null,
            "border_bottom": null,
            "border_left": null,
            "border_right": null,
            "border_top": null,
            "bottom": null,
            "display": null,
            "flex": null,
            "flex_flow": null,
            "grid_area": null,
            "grid_auto_columns": null,
            "grid_auto_flow": null,
            "grid_auto_rows": null,
            "grid_column": null,
            "grid_gap": null,
            "grid_row": null,
            "grid_template_areas": null,
            "grid_template_columns": null,
            "grid_template_rows": null,
            "height": null,
            "justify_content": null,
            "justify_items": null,
            "left": null,
            "margin": null,
            "max_height": null,
            "max_width": null,
            "min_height": null,
            "min_width": null,
            "object_fit": null,
            "object_position": null,
            "order": null,
            "overflow": null,
            "padding": null,
            "right": null,
            "top": null,
            "visibility": null,
            "width": null
          }
        },
        "d1f2ce83efec46a0b5ceb555cf39c179": {
          "model_module": "@jupyter-widgets/controls",
          "model_name": "ProgressStyleModel",
          "model_module_version": "2.0.0",
          "state": {
            "_model_module": "@jupyter-widgets/controls",
            "_model_module_version": "2.0.0",
            "_model_name": "ProgressStyleModel",
            "_view_count": null,
            "_view_module": "@jupyter-widgets/base",
            "_view_module_version": "2.0.0",
            "_view_name": "StyleView",
            "bar_color": null,
            "description_width": ""
          }
        },
        "50525f3c47fc42988d49ddfb8cad088a": {
          "model_module": "@jupyter-widgets/base",
          "model_name": "LayoutModel",
          "model_module_version": "2.0.0",
          "state": {
            "_model_module": "@jupyter-widgets/base",
            "_model_module_version": "2.0.0",
            "_model_name": "LayoutModel",
            "_view_count": null,
            "_view_module": "@jupyter-widgets/base",
            "_view_module_version": "2.0.0",
            "_view_name": "LayoutView",
            "align_content": null,
            "align_items": null,
            "align_self": null,
            "border_bottom": null,
            "border_left": null,
            "border_right": null,
            "border_top": null,
            "bottom": null,
            "display": null,
            "flex": null,
            "flex_flow": null,
            "grid_area": null,
            "grid_auto_columns": null,
            "grid_auto_flow": null,
            "grid_auto_rows": null,
            "grid_column": null,
            "grid_gap": null,
            "grid_row": null,
            "grid_template_areas": null,
            "grid_template_columns": null,
            "grid_template_rows": null,
            "height": null,
            "justify_content": null,
            "justify_items": null,
            "left": null,
            "margin": null,
            "max_height": null,
            "max_width": null,
            "min_height": null,
            "min_width": null,
            "object_fit": null,
            "object_position": null,
            "order": null,
            "overflow": null,
            "padding": null,
            "right": null,
            "top": null,
            "visibility": null,
            "width": null
          }
        },
        "9438ac4d3fa743ef877bd8ebfe955d3d": {
          "model_module": "@jupyter-widgets/controls",
          "model_name": "HTMLStyleModel",
          "model_module_version": "2.0.0",
          "state": {
            "_model_module": "@jupyter-widgets/controls",
            "_model_module_version": "2.0.0",
            "_model_name": "HTMLStyleModel",
            "_view_count": null,
            "_view_module": "@jupyter-widgets/base",
            "_view_module_version": "2.0.0",
            "_view_name": "StyleView",
            "background": null,
            "description_width": "",
            "font_size": null,
            "text_color": null
          }
        }
      }
    }
  },
  "cells": [
    {
      "cell_type": "markdown",
      "metadata": {
        "id": "view-in-github",
        "colab_type": "text"
      },
      "source": [
        "<a href=\"https://colab.research.google.com/github/simhermansson/NLP_Yelp_Reviews/blob/main/NLP_Yelp_Reviews.ipynb\" target=\"_parent\"><img src=\"https://colab.research.google.com/assets/colab-badge.svg\" alt=\"Open In Colab\"/></a>"
      ]
    },
    {
      "cell_type": "markdown",
      "source": [
        "# Predict Yelp Review Stars"
      ],
      "metadata": {
        "id": "8W3WjX0GsRM3"
      }
    },
    {
      "cell_type": "markdown",
      "source": [
        "### Read the two datasets to dataframes"
      ],
      "metadata": {
        "id": "Xc5_d_JNatqK"
      }
    },
    {
      "cell_type": "markdown",
      "source": [
        "We have one dataset for businesses, and one for reviews.\n",
        "The businesses dataset is 113 MB, while the review dataset is almost 5 GB!\n",
        "\n",
        "We must therefore be careful when loading that dataset to a dataframe to not run out of RAM."
      ],
      "metadata": {
        "id": "wX6jl-f8f2fg"
      }
    },
    {
      "cell_type": "code",
      "source": [
        "!pip install pandas --quiet\n",
        "import pandas as pd\n",
        "\n",
        "#from google.colab import drive\n",
        "\n",
        "\n",
        "# Specify whether training final model or only using some of the data\n",
        "FINAL_MODEL = False\n",
        "\n",
        "# Mount Google Drive\n",
        "#drive.mount(\"/content/drive\")\n",
        "\n",
        "# Read business data to dataframe\n",
        "business_df = pd.read_json(\"/mnt/d/Datasets/yelp_academic_dataset_business.json\",\n",
        "                           lines=True)\n",
        "# Keep only strictly necessary columns\n",
        "business_df = business_df[[\"business_id\", \"stars\", \"review_count\"]]\n",
        "\n",
        "# Read review data to a JsonReader object, due to memory constraints\n",
        "review_df = None\n",
        "with pd.read_json(\"/mnt/d/Datasets/yelp_academic_dataset_review.json\",\n",
        "                  lines=True,\n",
        "                  chunksize=1000000) as reader:\n",
        "    # Keep only necessary columns and combine into a full dataframe\n",
        "    for chunk in reader:\n",
        "        chunk = chunk[[\"business_id\", \"stars\", \"text\"]]\n",
        "        review_df = chunk if review_df is None else pd.concat([review_df, chunk],\n",
        "                                                              ignore_index=True)\n",
        "    del chunk\n",
        "\n",
        "# Use a smaller review dataset if not training the final model\n",
        "if not FINAL_MODEL:\n",
        "    review_df = review_df.sample(frac=0.01, random_state=42).reset_index(drop=True)\n",
        "# Create train and validation sets for the review data\n",
        "train_review_df = review_df.sample(frac=0.8, random_state=42)\n",
        "valid_review_df = review_df.drop(train_review_df.index).reset_index(drop=True)\n",
        "train_review_df = train_review_df.reset_index(drop=True)\n",
        "del review_df"
      ],
      "metadata": {
        "id": "suVpvTDVlhDO"
      },
      "execution_count": null,
      "outputs": []
    },
    {
      "cell_type": "markdown",
      "source": [
        "#### Save the development train and test dataframes to avoid having to read the entire dataset every time."
      ],
      "metadata": {
        "id": "bI09Q1M1h5Za"
      }
    },
    {
      "cell_type": "code",
      "source": [
        "if not FINAL_MODEL:\n",
        "    #train_review_df.to_csv(\"/content/drive/MyDrive/Colab Data/dev_train_review_df.csv\", index=False)\n",
        "    #valid_review_df.to_csv(\"/content/drive/MyDrive/Colab Data/dev_valid_review_df.csv\", index=False)\n",
        "    train_review_df.to_csv(\"/mnt/d/Datasets/dev_train_review_df.csv\", index=False)\n",
        "    valid_review_df.to_csv(\"/mnt/d/Datasets/dev_valid_review_df.csv\", index=False)"
      ],
      "metadata": {
        "id": "c4dguRSMiEkF"
      },
      "execution_count": null,
      "outputs": []
    },
    {
      "cell_type": "markdown",
      "source": [
        "#### Read already saved training and test dataframes"
      ],
      "metadata": {
        "id": "0U1PhEXNixMp"
      }
    },
    {
      "cell_type": "code",
      "source": [
        "import pandas as pd\n",
        "\n",
        "#from google.colab import drive\n",
        "\n",
        "\n",
        "if not FINAL_MODEL:\n",
        "    #drive.mount(\"/content/drive\")\n",
        "    #train_review_df = pd.read_csv(\"/content/drive/MyDrive/Colab Data/dev_train_review_df.csv\")\n",
        "    #valid_review_df = pd.read_csv(\"/content/drive/MyDrive/Colab Data/dev_valid_review_df.csv\")\n",
        "    train_review_df = pd.read_csv(\"/mnt/d/Datasets/dev_train_review_df.csv\")\n",
        "    valid_review_df = pd.read_csv(\"/mnt/d/Datasets/dev_valid_review_df.csv\")"
      ],
      "metadata": {
        "id": "mIdstTVKi2a2"
      },
      "execution_count": 1,
      "outputs": []
    },
    {
      "cell_type": "code",
      "source": [
        "!pip install datasets --quiet\n",
        "\n",
        "from datasets import load_dataset, Features, Value, ClassLabel\n",
        "#from google.colab import drive\n",
        "\n",
        "\n",
        "features = Features({\n",
        "    \"business_id\": Value(dtype=\"string\"),\n",
        "    \"text\": Value(dtype=\"string\"),\n",
        "    \"stars\": ClassLabel(num_classes=5, names=[\"1\", \"2\", \"3\", \"4\", \"5\"])\n",
        "})\n",
        "\n",
        "train_review = load_dataset(\"csv\", data_files=\"/mnt/d/Datasets/dev_train_review_df.csv\", features=features)[\"train\"]\n",
        "valid_review = load_dataset(\"csv\", data_files=\"/mnt/d/Datasets/dev_valid_review_df.csv\", features=features)[\"train\"]\n",
        "\n",
        "train_review = train_review.remove_columns(\"business_id\")\n",
        "valid_review = valid_review.remove_columns(\"business_id\")\n",
        "\n",
        "train_review = train_review.rename_column(\"stars\", \"labels\")\n",
        "valid_review = valid_review.rename_column(\"stars\", \"labels\")\n",
        "\n",
        "print(train_review.features)"
      ],
      "metadata": {
        "colab": {
          "base_uri": "https://localhost:8080/",
          "height": 104,
          "referenced_widgets": [
            "68fea35366354e2b858e65f6b4726a03",
            "0b4786f9c5874d3589736a3066285c09",
            "51b01b532e3d49969399e158200e4e2a",
            "a4c779813b7a41f3bdd142fae47ab55d",
            "fff2ef3b64694c9db4b8077d25098623",
            "2e495a527e8e42e585248a6c605684ad",
            "35763d078ae5439e9185eea683b1a72a",
            "00c58555bf484515b6a7a5c364dc0af4",
            "a29e052379954c6ba4b8cad1e0a9bf2a",
            "6d4c572f6f7f46828252f878dde6aa84",
            "1999117b18ce4df09095caf8742938b7",
            "fd181fe6a89b4f9b9fd78e9846fdb67d",
            "f90c0333b4bc461fbe6c1f8d2868b6e8",
            "b104f8faa5af46a9b65e5e0f8dddea11",
            "f11cea6d193048869416fa363905475f",
            "927cc7fda563434b90d417194fe37c6c",
            "9e330aa34b99479fab6b47fc06131c01",
            "43ba8ff097c94acdbb0de729f6006479",
            "d2c0d07cdbd243728224b64596f15ee3",
            "d1f2ce83efec46a0b5ceb555cf39c179",
            "50525f3c47fc42988d49ddfb8cad088a",
            "9438ac4d3fa743ef877bd8ebfe955d3d"
          ]
        },
        "id": "s585EYZd4T3o",
        "outputId": "a8e231a7-9319-45c0-a6b4-a53a726706d9"
      },
      "execution_count": 2,
      "outputs": [
        {
          "output_type": "stream",
          "name": "stderr",
          "text": [
            "Using custom data configuration default-207f97924aaba18c\n",
            "Found cached dataset csv (/home/simon/.cache/huggingface/datasets/csv/default-207f97924aaba18c/0.0.0/6b34fb8fcf56f7c8ba51dc895bfa2bfbe43546f190a60fcf74bb5e8afdcc2317)\n"
          ]
        },
        {
          "output_type": "display_data",
          "data": {
            "text/plain": [
              "  0%|          | 0/1 [00:00<?, ?it/s]"
            ],
            "application/vnd.jupyter.widget-view+json": {
              "version_major": 2,
              "version_minor": 0,
              "model_id": "68fea35366354e2b858e65f6b4726a03"
            }
          },
          "metadata": {}
        },
        {
          "output_type": "stream",
          "name": "stderr",
          "text": [
            "Using custom data configuration default-906503e9d2fa0bf6\n",
            "Found cached dataset csv (/home/simon/.cache/huggingface/datasets/csv/default-906503e9d2fa0bf6/0.0.0/6b34fb8fcf56f7c8ba51dc895bfa2bfbe43546f190a60fcf74bb5e8afdcc2317)\n"
          ]
        },
        {
          "output_type": "display_data",
          "data": {
            "text/plain": [
              "  0%|          | 0/1 [00:00<?, ?it/s]"
            ],
            "application/vnd.jupyter.widget-view+json": {
              "version_major": 2,
              "version_minor": 0,
              "model_id": "fd181fe6a89b4f9b9fd78e9846fdb67d"
            }
          },
          "metadata": {}
        },
        {
          "output_type": "stream",
          "name": "stdout",
          "text": [
            "{'text': Value(dtype='string', id=None), 'labels': ClassLabel(names=['1', '2', '3', '4', '5'], id=None)}\n"
          ]
        }
      ]
    },
    {
      "cell_type": "markdown",
      "source": [
        "# Fine-tune a DistilBert Model"
      ],
      "metadata": {
        "id": "JFBDxJ0lyp6b"
      }
    },
    {
      "cell_type": "code",
      "source": [
        "!pip install transformers wandb==0.13.4 torch --quiet\n",
        "\n",
        "from transformers import (AutoTokenizer, DataCollatorWithPadding,\n",
        "                          AutoModelForSequenceClassification, TrainingArguments, Trainer)\n",
        "from torch.utils.data import Dataset, DataLoader\n",
        "from datasets import load_dataset, load_metric\n",
        "import wandb\n",
        "\n",
        "import numpy as np\n",
        "\n",
        "\n",
        "# Use the GPU\n",
        "device = \"cuda\"\n",
        "\n",
        "# Initialize weight and biases for tracking metrics\n",
        "wandb.init()\n",
        "\n",
        "# Load pre-trained DistilBert model from HuggingFace\n",
        "model = AutoModelForSequenceClassification.from_pretrained(\"distilbert-base-uncased\", num_labels=5)\n",
        "\n",
        "# Tokenize the training and validation data\n",
        "tokenizer = AutoTokenizer.from_pretrained(\"distilbert-base-uncased\")\n",
        "\n",
        "train_review = train_review.map(\n",
        "    lambda row: tokenizer(row[\"text\"], truncation=True)\n",
        ", batched=True)\n",
        "valid_review = valid_review.map(\n",
        "    lambda row: tokenizer(row[\"text\"], truncation=True)\n",
        ", batched=True)\n",
        "\n",
        "# Create a collator that converts input into tensors and builds batches\n",
        "collator = DataCollatorWithPadding(tokenizer=tokenizer)\n",
        "\n",
        "# Create a function for the evaluation metrics that are to be used\n",
        "def metrics(eval):\n",
        "    logits, labels = eval\n",
        "    predictions = np.argmax(logits, axis=-1)\n",
        "    acc = load_metric(\"accuracy\").compute(predictions=predictions, references=labels)[\"accuracy\"]\n",
        "    f1 = load_metric(\"f1\").compute(predictions=predictions, references=labels,\n",
        "                                   average=\"weighted\")[\"f1\"]\n",
        "    return {\"Accuracy\": acc, \"F1-Score\": f1}\n",
        "\n",
        "# Set up training arguments\n",
        "args = TrainingArguments(\n",
        "    output_dir=\"DistilBertTraining\",\n",
        "    overwrite_output_dir=True,\n",
        "    per_device_train_batch_size=32,\n",
        "    per_device_eval_batch_size=32,\n",
        "    num_train_epochs=2,\n",
        "    save_strategy=\"steps\",\n",
        "    save_step=100,\n",
        "    logging_steps=100,\n",
        "    eval_steps=100,\n",
        "    evaluation_strategy=\"steps\"\n",
        ")\n",
        "\n",
        "# Set up HuggingFace trainer\n",
        "trainer = Trainer(\n",
        "    model=model,\n",
        "    args=args,\n",
        "    train_dataset=train_review,\n",
        "    eval_dataset=valid_review,\n",
        "    tokenizer=tokenizer,\n",
        "    data_collator=collator,\n",
        "    compute_metrics=metrics\n",
        ")\n",
        "\n",
        "# Train the model\n",
        "trainer.train()\n",
        "\n",
        "# Evaluate the model\n",
        "trainer.evaluate()\n",
        "\n",
        "# End wandb logging\n",
        "wandb.finish()"
      ],
      "metadata": {
        "id": "9rvaxbVC5hW3"
      },
      "execution_count": null,
      "outputs": []
    },
    {
      "cell_type": "markdown",
      "source": [
        "# Predicting Business Ratings by Embeddings and kNN"
      ],
      "metadata": {
        "id": "-pY6bHyvwBR4"
      }
    },
    {
      "cell_type": "code",
      "source": [
        "text = \"This was the best restaurant I've ever been to!\"\n",
        "encoding = tokenizer(text, truncation=True)\n",
        "outputs = model(encoding, output_hidden_states=True)\n",
        "hidden_states = outputs.hidden_states"
      ],
      "metadata": {
        "id": "bd5wFG86wAoN"
      },
      "execution_count": null,
      "outputs": []
    },
    {
      "cell_type": "markdown",
      "source": [
        "# Baseline Methods"
      ],
      "metadata": {
        "id": "Ia2LzjFgfWtE"
      }
    },
    {
      "cell_type": "code",
      "source": [
        "# When fetching data, fetch in pandas format\n",
        "train_review = train_review.with_format(\"pandas\", columns=[\"text\", \"labels\"])\n",
        "valid_review = valid_review.with_format(\"pandas\", columns=[\"text\", \"labels\"])"
      ],
      "metadata": {
        "id": "rBFY0Qkr97wZ"
      },
      "execution_count": 17,
      "outputs": []
    },
    {
      "cell_type": "code",
      "source": [
        "train_review[\"labels\"]"
      ],
      "metadata": {
        "colab": {
          "base_uri": "https://localhost:8080/"
        },
        "id": "hcpYxsU1L8vr",
        "outputId": "1069e38a-d4de-4897-96df-a9e6268f9c65"
      },
      "execution_count": 18,
      "outputs": [
        {
          "output_type": "execute_result",
          "data": {
            "text/plain": [
              "0        4\n",
              "1        4\n",
              "2        0\n",
              "3        4\n",
              "4        0\n",
              "        ..\n",
              "55917    2\n",
              "55918    2\n",
              "55919    4\n",
              "55920    4\n",
              "55921    2\n",
              "Name: labels, Length: 55922, dtype: int64"
            ]
          },
          "metadata": {},
          "execution_count": 18
        }
      ]
    },
    {
      "cell_type": "markdown",
      "source": [
        "#### Naive Bayes Classifier With CountVectorizer"
      ],
      "metadata": {
        "id": "SbjagpFEHkCR"
      }
    },
    {
      "cell_type": "code",
      "source": [
        "!pip install scikit-learn spacy --quiet\n",
        "!python3 -m spacy download en_core_web_sm\n",
        "\n",
        "import spacy\n",
        "from sklearn.naive_bayes import MultinomialNB\n",
        "from sklearn.metrics import classification_report\n",
        "from sklearn.pipeline import Pipeline\n",
        "from sklearn.feature_extraction.text import CountVectorizer\n",
        "from sklearn.feature_extraction.text import TfidfVectorizer\n",
        "from sklearn.svm import SVC\n",
        "\n",
        "\n",
        "# Load spacy\n",
        "nlp = spacy.load(\"en_core_web_sm\", disable=[\"parser\", \"ner\"])\n",
        "\n",
        "def preprocess(text):\n",
        "    \"\"\" Lemmatize, remove stop words and keep only alphabetic characters. \"\"\"\n",
        "    doc = nlp(text)\n",
        "    return [t.lemma_ for t in doc if not t.is_stop and t.is_alpha]\n",
        "\n",
        "# Create a pipeline with a CountVectorizer and a Naive Bayes Classifier\n",
        "pipe = Pipeline([(\"vectorizer\", CountVectorizer(tokenizer=preprocess)),\n",
        "                 (\"NB\", MultinomialNB())])\n",
        "\n",
        "pipe.fit(train_review[\"text\"], train_review[\"labels\"])"
      ],
      "metadata": {
        "id": "sqp5TBsC7uka"
      },
      "execution_count": null,
      "outputs": []
    },
    {
      "cell_type": "code",
      "source": [
        "# Do predictions\n",
        "ys = pipe.predict(valid_review[\"text\"])\n",
        "print(classification_report(valid_review[\"labels\"], ys))"
      ],
      "metadata": {
        "colab": {
          "base_uri": "https://localhost:8080/"
        },
        "id": "J9NdyX-eCprn",
        "outputId": "2424ec0a-b1d2-4f02-f93a-2a99397c3bac"
      },
      "execution_count": 59,
      "outputs": [
        {
          "output_type": "stream",
          "name": "stdout",
          "text": [
            "              precision    recall  f1-score   support\n",
            "\n",
            "           0       0.62      0.75      0.68      2119\n",
            "           1       0.38      0.21      0.27      1127\n",
            "           2       0.35      0.23      0.28      1362\n",
            "           3       0.41      0.54      0.47      2898\n",
            "           4       0.78      0.73      0.75      6475\n",
            "\n",
            "    accuracy                           0.60     13981\n",
            "   macro avg       0.51      0.49      0.49     13981\n",
            "weighted avg       0.60      0.60      0.60     13981\n",
            "\n"
          ]
        }
      ]
    },
    {
      "cell_type": "markdown",
      "source": [
        "#### Naive Bayes Classifier With TfidfVectorizer"
      ],
      "metadata": {
        "id": "S5GEDLw6HoK7"
      }
    },
    {
      "cell_type": "code",
      "source": [
        "pipe = Pipeline([(\"vectorizer\", TfidfVectorizer(tokenizer=preprocess)),\n",
        "                 (\"NB\", MultinomialNB())])\n",
        "\n",
        "pipe.fit(train_review[\"text\"], train_review[\"labels\"])"
      ],
      "metadata": {
        "id": "_2WqCfusHqKx"
      },
      "execution_count": null,
      "outputs": []
    },
    {
      "cell_type": "code",
      "source": [
        "# Do predictions\n",
        "ys = pipe.predict(valid_review[\"text\"])\n",
        "print(classification_report(valid_review[\"labels\"], ys))"
      ],
      "metadata": {
        "colab": {
          "base_uri": "https://localhost:8080/"
        },
        "id": "GNOsS8aHIWS2",
        "outputId": "0f3b9bb5-a680-4b7d-af47-442e00fb8491"
      },
      "execution_count": 63,
      "outputs": [
        {
          "output_type": "stream",
          "name": "stdout",
          "text": [
            "              precision    recall  f1-score   support\n",
            "\n",
            "           0       0.79      0.53      0.63      2119\n",
            "           1       1.00      0.00      0.00      1127\n",
            "           2       0.00      0.00      0.00      1362\n",
            "           3       0.13      0.01      0.01      2898\n",
            "           4       0.52      0.99      0.68      6475\n",
            "\n",
            "    accuracy                           0.54     13981\n",
            "   macro avg       0.49      0.31      0.27     13981\n",
            "weighted avg       0.47      0.54      0.41     13981\n",
            "\n"
          ]
        }
      ]
    },
    {
      "cell_type": "markdown",
      "source": [
        "#### Naive Bayes Classifier With CountVectorizer Grid Search"
      ],
      "metadata": {
        "id": "REl0aBAUhAuR"
      }
    },
    {
      "cell_type": "markdown",
      "source": [
        "Note: Should not be run with the complete dataset"
      ],
      "metadata": {
        "id": "ADlAUTXFhrCq"
      }
    },
    {
      "cell_type": "code",
      "source": [
        "from sklearn.model_selection import GridSearchCV\n",
        "# Parameters for grid search\n",
        "parameters = {\n",
        "    \"vectorizer__binary\": [True, False],\n",
        "    \"vectorizer__ngram_range\": [(1, 1), (2, 2)],\n",
        "    \"NB__alpha\": [1.0, 0.1]\n",
        "}\n",
        "\n",
        "pipe = Pipeline([(\"vectorizer\", CountVectorizer(tokenizer=preprocess)),\n",
        "                 (\"NB\", MultinomialNB())])\n",
        "gsc = GridSearchCV(pipe, parameters)\n",
        "gsc.fit(train_review[\"text\"].sample(frac=0.3), train_review[\"labels\"].sample(frac=0.3))"
      ],
      "metadata": {
        "id": "zW8ZOc68hACa"
      },
      "execution_count": null,
      "outputs": []
    },
    {
      "cell_type": "code",
      "source": [
        "# Do predictions for the best parameters found during grid search, and show best parameters\n",
        "ys = gsc.best_estimator_.predict(valid_review[\"text\"])\n",
        "print(classification_report(valid_review[\"labels\"], ys))\n",
        "print(gsc.best_params_)"
      ],
      "metadata": {
        "colab": {
          "base_uri": "https://localhost:8080/"
        },
        "id": "na2-dCl_h8PO",
        "outputId": "8b6831bf-55dc-412b-a5cf-b549e6ba78b8"
      },
      "execution_count": 30,
      "outputs": [
        {
          "output_type": "stream",
          "name": "stdout",
          "text": [
            "              precision    recall  f1-score   support\n",
            "\n",
            "           0       0.23      0.02      0.03      2119\n",
            "           1       0.07      0.00      0.00      1127\n",
            "           2       0.00      0.00      0.00      1362\n",
            "           3       0.19      0.04      0.07      2898\n",
            "           4       0.46      0.94      0.62      6475\n",
            "\n",
            "    accuracy                           0.45     13981\n",
            "   macro avg       0.19      0.20      0.14     13981\n",
            "weighted avg       0.29      0.45      0.31     13981\n",
            "\n",
            "{'NB__alpha': 1.0, 'vectorizer__binary': True, 'vectorizer__ngram_range': (1, 1)}\n"
          ]
        }
      ]
    },
    {
      "cell_type": "markdown",
      "source": [
        "#### Complete run with best hyperparameters"
      ],
      "metadata": {
        "id": "KKE3an0eXaZW"
      }
    },
    {
      "cell_type": "code",
      "source": [
        "pipe = Pipeline([(\"vectorizer\", CountVectorizer(tokenizer=preprocess, binary=True)),\n",
        "                 (\"NB\", MultinomialNB())])\n",
        "\n",
        "pipe.fit(train_review[\"text\"], train_review[\"labels\"])"
      ],
      "metadata": {
        "id": "upFeUP4EXgOJ"
      },
      "execution_count": null,
      "outputs": []
    },
    {
      "cell_type": "code",
      "source": [
        "# Do predictions\n",
        "ys = pipe.predict(valid_review[\"text\"])\n",
        "print(classification_report(valid_review[\"labels\"], ys))"
      ],
      "metadata": {
        "colab": {
          "base_uri": "https://localhost:8080/"
        },
        "id": "rtPxPZkvXwAL",
        "outputId": "84fd0987-511b-49e0-c03f-b78588f5a565"
      },
      "execution_count": 33,
      "outputs": [
        {
          "output_type": "stream",
          "name": "stdout",
          "text": [
            "              precision    recall  f1-score   support\n",
            "\n",
            "           0       0.62      0.78      0.69      2119\n",
            "           1       0.42      0.16      0.23      1127\n",
            "           2       0.35      0.18      0.24      1362\n",
            "           3       0.41      0.50      0.45      2898\n",
            "           4       0.75      0.77      0.76      6475\n",
            "\n",
            "    accuracy                           0.61     13981\n",
            "   macro avg       0.51      0.48      0.48     13981\n",
            "weighted avg       0.60      0.61      0.59     13981\n",
            "\n"
          ]
        }
      ]
    },
    {
      "cell_type": "markdown",
      "source": [
        "#### SVM With CountVectorizer"
      ],
      "metadata": {
        "id": "nOhT08lHM6ET"
      }
    },
    {
      "cell_type": "code",
      "source": [
        "pipe = Pipeline([(\"vectorizer\", CountVectorizer(tokenizer=preprocess)),\n",
        "                 (\"SVM\", SVC(max_iter=10))])\n",
        "\n",
        "pipe.fit(train_review[\"text\"], train_review[\"labels\"])"
      ],
      "metadata": {
        "id": "RAPfbp0aM5IB"
      },
      "execution_count": null,
      "outputs": []
    },
    {
      "cell_type": "code",
      "source": [
        "# Do predictions\n",
        "ys = pipe.predict(valid_review[\"text\"])\n",
        "print(classification_report(valid_review[\"labels\"], ys))"
      ],
      "metadata": {
        "colab": {
          "base_uri": "https://localhost:8080/"
        },
        "id": "C6c8_tInNtlX",
        "outputId": "1483a0b0-bce1-4a2f-bc05-011ea6bf6f60"
      },
      "execution_count": 9,
      "outputs": [
        {
          "output_type": "stream",
          "name": "stdout",
          "text": [
            "              precision    recall  f1-score   support\n",
            "\n",
            "           0       0.20      0.55      0.29      2119\n",
            "           1       0.09      0.01      0.02      1127\n",
            "           2       0.13      0.04      0.06      1362\n",
            "           3       0.21      0.06      0.10      2898\n",
            "           4       0.57      0.59      0.58      6475\n",
            "\n",
            "    accuracy                           0.37     13981\n",
            "   macro avg       0.24      0.25      0.21     13981\n",
            "weighted avg       0.36      0.37      0.34     13981\n",
            "\n"
          ]
        }
      ]
    },
    {
      "cell_type": "markdown",
      "source": [
        "### Plot review data"
      ],
      "metadata": {
        "id": "cNItMIOj5djX"
      }
    },
    {
      "cell_type": "code",
      "source": [
        "import matplotlib.pyplot as plt\n",
        "\n",
        "# Create a bar plot for the training data\n",
        "train_review_df[\"stars\"].value_counts().sort_index().plot(kind=\"bar\")\n",
        "plt.title(\"Star Distribution\")\n",
        "plt.show()"
      ],
      "metadata": {
        "id": "1GeEa-Wlb1cA",
        "colab": {
          "base_uri": "https://localhost:8080/",
          "height": 278
        },
        "outputId": "19d1deee-2462-4194-ae36-f71ac1e47069"
      },
      "execution_count": null,
      "outputs": [
        {
          "output_type": "display_data",
          "data": {
            "text/plain": [
              "<Figure size 432x288 with 1 Axes>"
            ],
            "image/png": "[encoded data removed]"
          },
          "metadata": {
            "needs_background": "light"
          }
        }
      ]
    },
    {
      "cell_type": "markdown",
      "source": [
        "We can note that we have an uneven class balance in our dataset, with many 5-star reviews."
      ],
      "metadata": {
        "id": "kQ6odpg25gp8"
      }
    }
  ]
}